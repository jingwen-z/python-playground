{
 "cells": [
  {
   "cell_type": "markdown",
   "metadata": {},
   "source": [
    "Geocoding API:\n",
    "<https://developers.google.com/maps/documentation/geocoding/overview>"
   ]
  },
  {
   "cell_type": "code",
   "execution_count": 1,
   "metadata": {},
   "outputs": [],
   "source": [
    "import pandas as pd\n",
    "pd.set_option('display.max_columns', None)\n",
    "pd.set_option('display.max_rows', None)\n",
    "\n",
    "import configparser\n",
    "from urllib.parse import urlencode\n",
    "import requests"
   ]
  },
  {
   "cell_type": "code",
   "execution_count": 2,
   "metadata": {},
   "outputs": [],
   "source": [
    "config = configparser.ConfigParser()\n",
    "config.read('/Users/jingwen/Documents/python/global_key.properties')\n",
    "key = config['google']['python.playground']"
   ]
  },
  {
   "cell_type": "markdown",
   "metadata": {},
   "source": [
    "## Get information by address"
   ]
  },
  {
   "cell_type": "code",
   "execution_count": 3,
   "metadata": {},
   "outputs": [],
   "source": [
    "adr = '52 Rue Rambuteau, 75003 Paris'\n",
    "\n",
    "response = requests.get(\n",
    "    'https://maps.googleapis.com/maps/api/geocode/json?' + urlencode({'address': adr, 'key': key}))\n",
    "resp_address = response.json()"
   ]
  },
  {
   "cell_type": "code",
   "execution_count": 4,
   "metadata": {},
   "outputs": [
    {
     "data": {
      "text/plain": [
       "{'results': [{'address_components': [{'long_name': '52',\n",
       "     'short_name': '52',\n",
       "     'types': ['street_number']},\n",
       "    {'long_name': 'Rue Rambuteau',\n",
       "     'short_name': 'Rue Rambuteau',\n",
       "     'types': ['route']},\n",
       "    {'long_name': 'Paris',\n",
       "     'short_name': 'Paris',\n",
       "     'types': ['locality', 'political']},\n",
       "    {'long_name': 'Département de Paris',\n",
       "     'short_name': 'Département de Paris',\n",
       "     'types': ['administrative_area_level_2', 'political']},\n",
       "    {'long_name': 'Île-de-France',\n",
       "     'short_name': 'IDF',\n",
       "     'types': ['administrative_area_level_1', 'political']},\n",
       "    {'long_name': 'France',\n",
       "     'short_name': 'FR',\n",
       "     'types': ['country', 'political']},\n",
       "    {'long_name': '75003', 'short_name': '75003', 'types': ['postal_code']}],\n",
       "   'formatted_address': '52 Rue Rambuteau, 75003 Paris, France',\n",
       "   'geometry': {'location': {'lat': 48.8616653, 'lng': 2.3519186},\n",
       "    'location_type': 'ROOFTOP',\n",
       "    'viewport': {'northeast': {'lat': 48.8630142802915,\n",
       "      'lng': 2.353267580291502},\n",
       "     'southwest': {'lat': 48.8603163197085, 'lng': 2.350569619708498}}},\n",
       "   'place_id': 'ChIJicC18htu5kcRO7GQgmsBLh8',\n",
       "   'plus_code': {'compound_code': 'V962+MQ Paris, France',\n",
       "    'global_code': '8FW4V962+MQ'},\n",
       "   'types': ['street_address']}],\n",
       " 'status': 'OK'}"
      ]
     },
     "execution_count": 4,
     "metadata": {},
     "output_type": "execute_result"
    }
   ],
   "source": [
    "resp_address"
   ]
  },
  {
   "cell_type": "code",
   "execution_count": 5,
   "metadata": {},
   "outputs": [
    {
     "data": {
      "text/plain": [
       "{'lat': 48.8616653, 'lng': 2.3519186}"
      ]
     },
     "execution_count": 5,
     "metadata": {},
     "output_type": "execute_result"
    }
   ],
   "source": [
    "resp_address['results'][0]['geometry']['location']"
   ]
  },
  {
   "cell_type": "code",
   "execution_count": 6,
   "metadata": {},
   "outputs": [],
   "source": [
    "def get_coordinates(adr, key=key):\n",
    "    response = requests.get(\n",
    "        'https://maps.googleapis.com/maps/api/geocode/json?' + urlencode({'address': adr, 'key': key}))\n",
    "    resp_address = response.json()\n",
    "        \n",
    "    if resp_address['status'] == 'OK':\n",
    "        lat = resp_address['results'][0]['geometry']['location']['lat']\n",
    "        lng = resp_address['results'][0]['geometry']['location']['lng']\n",
    "        formatted_addr = resp_address['results'][0]['formatted_address']\n",
    "        return [lat, lng, formatted_addr]\n",
    "    else:\n",
    "        print('Failed to get json response:', resp_address)\n",
    "        return ['Latitude is not found', 'Longitude is not found', address]"
   ]
  },
  {
   "cell_type": "code",
   "execution_count": 7,
   "metadata": {},
   "outputs": [
    {
     "data": {
      "text/plain": [
       "[48.8616653, 2.3519186, '52 Rue Rambuteau, 75003 Paris, France']"
      ]
     },
     "execution_count": 7,
     "metadata": {},
     "output_type": "execute_result"
    }
   ],
   "source": [
    "get_coordinates(adr='52 Rue Rambuteau, 75003 Paris')"
   ]
  },
  {
   "cell_type": "markdown",
   "metadata": {},
   "source": [
    "## Get information by coordinates"
   ]
  },
  {
   "cell_type": "code",
   "execution_count": 8,
   "metadata": {},
   "outputs": [],
   "source": [
    "lat = 48.871143\n",
    "lng = 2.332060\n",
    "\n",
    "response = requests.get(\n",
    "    'https://maps.googleapis.com/maps/api/geocode/json?' + urlencode({'latlng': str(lat) + ',' + str(lng),\n",
    "                                                                      'key': key}))\n",
    "resp_coordinates = response.json()"
   ]
  },
  {
   "cell_type": "code",
   "execution_count": 9,
   "metadata": {
    "scrolled": true
   },
   "outputs": [
    {
     "data": {
      "text/plain": [
       "{'plus_code': {'compound_code': 'V8CJ+FR Paris, France',\n",
       "  'global_code': '8FW4V8CJ+FR'},\n",
       " 'results': [{'address_components': [{'long_name': 'Opéra',\n",
       "     'short_name': 'Opéra',\n",
       "     'types': ['establishment',\n",
       "      'point_of_interest',\n",
       "      'subway_station',\n",
       "      'transit_station']},\n",
       "    {'long_name': '10', 'short_name': '10', 'types': ['street_number']},\n",
       "    {'long_name': \"Place de l'Opéra\",\n",
       "     'short_name': \"Place de l'Opéra\",\n",
       "     'types': ['route']},\n",
       "    {'long_name': 'Paris',\n",
       "     'short_name': 'Paris',\n",
       "     'types': ['locality', 'political']},\n",
       "    {'long_name': 'Département de Paris',\n",
       "     'short_name': 'Département de Paris',\n",
       "     'types': ['administrative_area_level_2', 'political']},\n",
       "    {'long_name': 'Île-de-France',\n",
       "     'short_name': 'IDF',\n",
       "     'types': ['administrative_area_level_1', 'political']},\n",
       "    {'long_name': 'France',\n",
       "     'short_name': 'FR',\n",
       "     'types': ['country', 'political']},\n",
       "    {'long_name': '75009', 'short_name': '75009', 'types': ['postal_code']}],\n",
       "   'formatted_address': \"Opéra, 10 Place de l'Opéra, 75009 Paris, France\",\n",
       "   'geometry': {'location': {'lat': 48.8708714, 'lng': 2.3322168},\n",
       "    'location_type': 'ROOFTOP',\n",
       "    'viewport': {'northeast': {'lat': 48.8722203802915,\n",
       "      'lng': 2.333565780291502},\n",
       "     'southwest': {'lat': 48.8695224197085, 'lng': 2.330867819708498}}},\n",
       "   'place_id': 'ChIJK-uR2jBu5kcREnVBwzh7IM0',\n",
       "   'plus_code': {'compound_code': 'V8CJ+8V Paris, France',\n",
       "    'global_code': '8FW4V8CJ+8V'},\n",
       "   'types': ['establishment',\n",
       "    'point_of_interest',\n",
       "    'subway_station',\n",
       "    'transit_station']},\n",
       "  {'address_components': [{'long_name': '5',\n",
       "     'short_name': '5',\n",
       "     'types': ['street_number']},\n",
       "    {'long_name': \"Place de l'Opéra\",\n",
       "     'short_name': \"Place de l'Opéra\",\n",
       "     'types': ['route']},\n",
       "    {'long_name': 'Paris',\n",
       "     'short_name': 'Paris',\n",
       "     'types': ['locality', 'political']},\n",
       "    {'long_name': 'Département de Paris',\n",
       "     'short_name': 'Département de Paris',\n",
       "     'types': ['administrative_area_level_2', 'political']},\n",
       "    {'long_name': 'Île-de-France',\n",
       "     'short_name': 'IDF',\n",
       "     'types': ['administrative_area_level_1', 'political']},\n",
       "    {'long_name': 'France',\n",
       "     'short_name': 'FR',\n",
       "     'types': ['country', 'political']},\n",
       "    {'long_name': '75009', 'short_name': '75009', 'types': ['postal_code']}],\n",
       "   'formatted_address': \"5 Place de l'Opéra, 75009 Paris, France\",\n",
       "   'geometry': {'location': {'lat': 48.8709439, 'lng': 2.331738},\n",
       "    'location_type': 'ROOFTOP',\n",
       "    'viewport': {'northeast': {'lat': 48.8722928802915,\n",
       "      'lng': 2.333086980291502},\n",
       "     'southwest': {'lat': 48.8695949197085, 'lng': 2.330389019708498}}},\n",
       "   'place_id': 'ChIJ94wm2DBu5kcRrT1SkV596dg',\n",
       "   'plus_code': {'compound_code': 'V8CJ+9M Paris, France',\n",
       "    'global_code': '8FW4V8CJ+9M'},\n",
       "   'types': ['street_address']},\n",
       "  {'address_components': [{'long_name': '1',\n",
       "     'short_name': '1',\n",
       "     'types': ['street_number']},\n",
       "    {'long_name': 'Rue Auber', 'short_name': 'Rue Auber', 'types': ['route']},\n",
       "    {'long_name': 'Paris',\n",
       "     'short_name': 'Paris',\n",
       "     'types': ['locality', 'political']},\n",
       "    {'long_name': 'Département de Paris',\n",
       "     'short_name': 'Département de Paris',\n",
       "     'types': ['administrative_area_level_2', 'political']},\n",
       "    {'long_name': 'Île-de-France',\n",
       "     'short_name': 'IDF',\n",
       "     'types': ['administrative_area_level_1', 'political']},\n",
       "    {'long_name': 'France',\n",
       "     'short_name': 'FR',\n",
       "     'types': ['country', 'political']},\n",
       "    {'long_name': '75009', 'short_name': '75009', 'types': ['postal_code']}],\n",
       "   'formatted_address': '1 Rue Auber, 75009 Paris, France',\n",
       "   'geometry': {'location': {'lat': 48.8710262, 'lng': 2.3316833},\n",
       "    'location_type': 'ROOFTOP',\n",
       "    'viewport': {'northeast': {'lat': 48.87237518029149,\n",
       "      'lng': 2.333032280291502},\n",
       "     'southwest': {'lat': 48.86967721970849, 'lng': 2.330334319708498}}},\n",
       "   'place_id': 'ChIJN5E86T5v5kcRrqHwv3GvqAQ',\n",
       "   'plus_code': {'compound_code': 'V8CJ+CM Paris, France',\n",
       "    'global_code': '8FW4V8CJ+CM'},\n",
       "   'types': ['cafe', 'establishment', 'food', 'point_of_interest']},\n",
       "  {'address_components': [{'long_name': '8',\n",
       "     'short_name': '8',\n",
       "     'types': ['street_number']},\n",
       "    {'long_name': \"Place de l'Opéra\",\n",
       "     'short_name': \"Place de l'Opéra\",\n",
       "     'types': ['route']},\n",
       "    {'long_name': 'Paris',\n",
       "     'short_name': 'Paris',\n",
       "     'types': ['locality', 'political']},\n",
       "    {'long_name': 'Département de Paris',\n",
       "     'short_name': 'Département de Paris',\n",
       "     'types': ['administrative_area_level_2', 'political']},\n",
       "    {'long_name': 'Île-de-France',\n",
       "     'short_name': 'IDF',\n",
       "     'types': ['administrative_area_level_1', 'political']},\n",
       "    {'long_name': 'France',\n",
       "     'short_name': 'FR',\n",
       "     'types': ['country', 'political']},\n",
       "    {'long_name': '75002', 'short_name': '75002', 'types': ['postal_code']}],\n",
       "   'formatted_address': \"8 Place de l'Opéra, 75002 Paris, France\",\n",
       "   'geometry': {'bounds': {'northeast': {'lat': 48.8711482, 'lng': 2.3328408},\n",
       "     'southwest': {'lat': 48.8708829, 'lng': 2.3325373}},\n",
       "    'location': {'lat': 48.8709853, 'lng': 2.3327289},\n",
       "    'location_type': 'ROOFTOP',\n",
       "    'viewport': {'northeast': {'lat': 48.87236453029149,\n",
       "      'lng': 2.334038030291502},\n",
       "     'southwest': {'lat': 48.86966656970849, 'lng': 2.331340069708498}}},\n",
       "   'place_id': 'ChIJG9a0yDBu5kcRgxZqbytr14U',\n",
       "   'types': ['premise']},\n",
       "  {'address_components': [{'long_name': '5',\n",
       "     'short_name': '5',\n",
       "     'types': ['street_number']},\n",
       "    {'long_name': \"Place de l'Opéra\",\n",
       "     'short_name': \"Place de l'Opéra\",\n",
       "     'types': ['route']},\n",
       "    {'long_name': 'Paris',\n",
       "     'short_name': 'Paris',\n",
       "     'types': ['locality', 'political']},\n",
       "    {'long_name': 'Département de Paris',\n",
       "     'short_name': 'Département de Paris',\n",
       "     'types': ['administrative_area_level_2', 'political']},\n",
       "    {'long_name': 'Île-de-France',\n",
       "     'short_name': 'IDF',\n",
       "     'types': ['administrative_area_level_1', 'political']},\n",
       "    {'long_name': 'France',\n",
       "     'short_name': 'FR',\n",
       "     'types': ['country', 'political']},\n",
       "    {'long_name': '75009', 'short_name': '75009', 'types': ['postal_code']}],\n",
       "   'formatted_address': \"5 Place de l'Opéra, 75009 Paris, France\",\n",
       "   'geometry': {'location': {'lat': 48.8709853, 'lng': 2.3319254},\n",
       "    'location_type': 'RANGE_INTERPOLATED',\n",
       "    'viewport': {'northeast': {'lat': 48.8723342802915,\n",
       "      'lng': 2.333274380291502},\n",
       "     'southwest': {'lat': 48.8696363197085, 'lng': 2.330576419708498}}},\n",
       "   'place_id': 'Eig1IFBsYWNlIGRlIGwnT3DDqXJhLCA3NTAwOSBQYXJpcywgRnJhbmNlIhoSGAoUChIJG1Uj2jBu5kcRnbsBIfo60ZwQBQ',\n",
       "   'types': ['street_address']},\n",
       "  {'address_components': [{'long_name': \"Place de l'Opéra\",\n",
       "     'short_name': \"Place de l'Opéra\",\n",
       "     'types': ['route']},\n",
       "    {'long_name': 'Paris',\n",
       "     'short_name': 'Paris',\n",
       "     'types': ['locality', 'political']},\n",
       "    {'long_name': 'Département de Paris',\n",
       "     'short_name': 'Département de Paris',\n",
       "     'types': ['administrative_area_level_2', 'political']},\n",
       "    {'long_name': 'Île-de-France',\n",
       "     'short_name': 'IDF',\n",
       "     'types': ['administrative_area_level_1', 'political']},\n",
       "    {'long_name': 'France',\n",
       "     'short_name': 'FR',\n",
       "     'types': ['country', 'political']},\n",
       "    {'long_name': '75009', 'short_name': '75009', 'types': ['postal_code']}],\n",
       "   'formatted_address': \"Place de l'Opéra, 75009 Paris, France\",\n",
       "   'geometry': {'bounds': {'northeast': {'lat': 48.8711819, 'lng': 2.3323796},\n",
       "     'southwest': {'lat': 48.8711016, 'lng': 2.3318457}},\n",
       "    'location': {'lat': 48.8711418, 'lng': 2.3321126},\n",
       "    'location_type': 'GEOMETRIC_CENTER',\n",
       "    'viewport': {'northeast': {'lat': 48.87249073029149,\n",
       "      'lng': 2.333461630291501},\n",
       "     'southwest': {'lat': 48.8697927697085, 'lng': 2.330763669708498}}},\n",
       "   'place_id': 'ChIJYcb90DBu5kcRGFlL_ON4620',\n",
       "   'types': ['route']},\n",
       "  {'address_components': [{'long_name': \"Chaussée-d'Antin\",\n",
       "     'short_name': \"Chaussée-d'Antin\",\n",
       "     'types': ['neighborhood', 'political']},\n",
       "    {'long_name': 'Paris',\n",
       "     'short_name': 'Paris',\n",
       "     'types': ['locality', 'political']},\n",
       "    {'long_name': 'Paris',\n",
       "     'short_name': 'Paris',\n",
       "     'types': ['administrative_area_level_2', 'political']},\n",
       "    {'long_name': 'Île-de-France',\n",
       "     'short_name': 'IDF',\n",
       "     'types': ['administrative_area_level_1', 'political']},\n",
       "    {'long_name': 'France',\n",
       "     'short_name': 'FR',\n",
       "     'types': ['country', 'political']}],\n",
       "   'formatted_address': \"Chaussée-d'Antin, Paris, France\",\n",
       "   'geometry': {'bounds': {'northeast': {'lat': 48.8768591, 'lng': 2.33938},\n",
       "     'southwest': {'lat': 48.8691889, 'lng': 2.3232991}},\n",
       "    'location': {'lat': 48.8728752, 'lng': 2.3303724},\n",
       "    'location_type': 'APPROXIMATE',\n",
       "    'viewport': {'northeast': {'lat': 48.8768591, 'lng': 2.33938},\n",
       "     'southwest': {'lat': 48.8691889, 'lng': 2.3232991}}},\n",
       "   'place_id': 'ChIJXWK63cVv5kcRv4KrUudnnKg',\n",
       "   'types': ['neighborhood', 'political']},\n",
       "  {'address_components': [{'long_name': '75009',\n",
       "     'short_name': '75009',\n",
       "     'types': ['postal_code']},\n",
       "    {'long_name': 'Paris',\n",
       "     'short_name': 'Paris',\n",
       "     'types': ['locality', 'political']},\n",
       "    {'long_name': 'Paris',\n",
       "     'short_name': 'Paris',\n",
       "     'types': ['administrative_area_level_2', 'political']},\n",
       "    {'long_name': 'Île-de-France',\n",
       "     'short_name': 'IDF',\n",
       "     'types': ['administrative_area_level_1', 'political']},\n",
       "    {'long_name': 'France',\n",
       "     'short_name': 'FR',\n",
       "     'types': ['country', 'political']}],\n",
       "   'formatted_address': '75009 Paris, France',\n",
       "   'geometry': {'bounds': {'northeast': {'lat': 48.8845347, 'lng': 2.3498225},\n",
       "     'southwest': {'lat': 48.8695428, 'lng': 2.3258301}},\n",
       "    'location': {'lat': 48.8790183, 'lng': 2.3379063},\n",
       "    'location_type': 'APPROXIMATE',\n",
       "    'viewport': {'northeast': {'lat': 48.8845347, 'lng': 2.3498225},\n",
       "     'southwest': {'lat': 48.8695428, 'lng': 2.3258301}}},\n",
       "   'place_id': 'ChIJvdxBeEdu5kcRgFHY4caCCxw',\n",
       "   'types': ['postal_code']},\n",
       "  {'address_components': [{'long_name': '9th arrondissement of Paris',\n",
       "     'short_name': '9th arrondissement of Paris',\n",
       "     'types': ['political', 'sublocality', 'sublocality_level_1']},\n",
       "    {'long_name': 'Paris',\n",
       "     'short_name': 'Paris',\n",
       "     'types': ['locality', 'political']},\n",
       "    {'long_name': 'Paris',\n",
       "     'short_name': 'Paris',\n",
       "     'types': ['administrative_area_level_2', 'political']},\n",
       "    {'long_name': 'Île-de-France',\n",
       "     'short_name': 'IDF',\n",
       "     'types': ['administrative_area_level_1', 'political']},\n",
       "    {'long_name': 'France',\n",
       "     'short_name': 'FR',\n",
       "     'types': ['country', 'political']},\n",
       "    {'long_name': '75009', 'short_name': '75009', 'types': ['postal_code']}],\n",
       "   'formatted_address': '9th arrondissement of Paris, 75009 Paris, France',\n",
       "   'geometry': {'bounds': {'northeast': {'lat': 48.884587, 'lng': 2.3498539},\n",
       "     'southwest': {'lat': 48.8695409, 'lng': 2.3258219}},\n",
       "    'location': {'lat': 48.8790183, 'lng': 2.3379063},\n",
       "    'location_type': 'APPROXIMATE',\n",
       "    'viewport': {'northeast': {'lat': 48.884587, 'lng': 2.3498539},\n",
       "     'southwest': {'lat': 48.8695409, 'lng': 2.3258219}}},\n",
       "   'place_id': 'ChIJvdxBeEdu5kcR0BqUaMOCCwU',\n",
       "   'types': ['political', 'sublocality', 'sublocality_level_1']},\n",
       "  {'address_components': [{'long_name': 'Paris',\n",
       "     'short_name': 'Paris',\n",
       "     'types': ['locality', 'political']},\n",
       "    {'long_name': 'Paris',\n",
       "     'short_name': 'Paris',\n",
       "     'types': ['administrative_area_level_2', 'political']},\n",
       "    {'long_name': 'Île-de-France',\n",
       "     'short_name': 'IDF',\n",
       "     'types': ['administrative_area_level_1', 'political']},\n",
       "    {'long_name': 'France',\n",
       "     'short_name': 'FR',\n",
       "     'types': ['country', 'political']}],\n",
       "   'formatted_address': 'Paris, France',\n",
       "   'geometry': {'bounds': {'northeast': {'lat': 48.9021449, 'lng': 2.4699208},\n",
       "     'southwest': {'lat': 48.815573, 'lng': 2.224199}},\n",
       "    'location': {'lat': 48.856614, 'lng': 2.3522219},\n",
       "    'location_type': 'APPROXIMATE',\n",
       "    'viewport': {'northeast': {'lat': 48.9021449, 'lng': 2.4699208},\n",
       "     'southwest': {'lat': 48.815573, 'lng': 2.224199}}},\n",
       "   'place_id': 'ChIJD7fiBh9u5kcRYJSMaMOCCwQ',\n",
       "   'types': ['locality', 'political']},\n",
       "  {'address_components': [{'long_name': 'Paris',\n",
       "     'short_name': 'Paris',\n",
       "     'types': ['administrative_area_level_2', 'political']},\n",
       "    {'long_name': 'Paris',\n",
       "     'short_name': 'Paris',\n",
       "     'types': ['locality', 'political']},\n",
       "    {'long_name': 'Île-de-France',\n",
       "     'short_name': 'IDF',\n",
       "     'types': ['administrative_area_level_1', 'political']},\n",
       "    {'long_name': 'France',\n",
       "     'short_name': 'FR',\n",
       "     'types': ['country', 'political']}],\n",
       "   'formatted_address': 'Paris, France',\n",
       "   'geometry': {'bounds': {'northeast': {'lat': 48.9021449, 'lng': 2.4699208},\n",
       "     'southwest': {'lat': 48.815573, 'lng': 2.224199}},\n",
       "    'location': {'lat': 48.8565823, 'lng': 2.3522148},\n",
       "    'location_type': 'APPROXIMATE',\n",
       "    'viewport': {'northeast': {'lat': 48.9021449, 'lng': 2.4699208},\n",
       "     'southwest': {'lat': 48.815573, 'lng': 2.224199}}},\n",
       "   'place_id': 'ChIJD7fiBh9u5kcRMCqLaMOCCwM',\n",
       "   'types': ['administrative_area_level_2', 'political']},\n",
       "  {'address_components': [{'long_name': 'Île-de-France',\n",
       "     'short_name': 'IDF',\n",
       "     'types': ['administrative_area_level_1', 'political']},\n",
       "    {'long_name': 'France',\n",
       "     'short_name': 'FR',\n",
       "     'types': ['country', 'political']}],\n",
       "   'formatted_address': 'Île-de-France, France',\n",
       "   'geometry': {'bounds': {'northeast': {'lat': 49.241504, 'lng': 3.5590069},\n",
       "     'southwest': {'lat': 48.1200811, 'lng': 1.44617}},\n",
       "    'location': {'lat': 48.8499198, 'lng': 2.6370411},\n",
       "    'location_type': 'APPROXIMATE',\n",
       "    'viewport': {'northeast': {'lat': 49.241504, 'lng': 3.5590069},\n",
       "     'southwest': {'lat': 48.1200811, 'lng': 1.44617}}},\n",
       "   'place_id': 'ChIJF4ymA8Th5UcRcCWLaMOCCwE',\n",
       "   'types': ['administrative_area_level_1', 'political']},\n",
       "  {'address_components': [{'long_name': 'France',\n",
       "     'short_name': 'FR',\n",
       "     'types': ['country', 'political']}],\n",
       "   'formatted_address': 'France',\n",
       "   'geometry': {'bounds': {'northeast': {'lat': 51.1241999, 'lng': 9.6624999},\n",
       "     'southwest': {'lat': 41.31433, 'lng': -5.5591}},\n",
       "    'location': {'lat': 46.227638, 'lng': 2.213749},\n",
       "    'location_type': 'APPROXIMATE',\n",
       "    'viewport': {'northeast': {'lat': 51.1241999, 'lng': 9.6624999},\n",
       "     'southwest': {'lat': 41.31433, 'lng': -5.5591}}},\n",
       "   'place_id': 'ChIJMVd4MymgVA0R99lHx5Y__Ws',\n",
       "   'types': ['country', 'political']}],\n",
       " 'status': 'OK'}"
      ]
     },
     "execution_count": 9,
     "metadata": {},
     "output_type": "execute_result"
    }
   ],
   "source": [
    "resp_coordinates"
   ]
  },
  {
   "cell_type": "code",
   "execution_count": 10,
   "metadata": {},
   "outputs": [
    {
     "data": {
      "text/plain": [
       "\"Opéra, 10 Place de l'Opéra, 75009 Paris, France\""
      ]
     },
     "execution_count": 10,
     "metadata": {},
     "output_type": "execute_result"
    }
   ],
   "source": [
    "resp_coordinates['results'][0]['formatted_address']"
   ]
  },
  {
   "cell_type": "code",
   "execution_count": 11,
   "metadata": {},
   "outputs": [],
   "source": [
    "def get_address(lat, lng, key=key):\n",
    "    response = requests.get(\n",
    "        'https://maps.googleapis.com/maps/api/geocode/json?' + urlencode({'latlng': str(lat) + ',' + str(lng),\n",
    "                                                                          'key': key}))\n",
    "    resp_coordinates = response.json()\n",
    "\n",
    "    if resp_coordinates['status'] == 'OK':\n",
    "        return resp_coordinates['results'][0]['formatted_address']\n",
    "    else:\n",
    "        print('Failed to get json response:', resp_coordinates)\n",
    "        return 'Address is not found'"
   ]
  },
  {
   "cell_type": "code",
   "execution_count": 12,
   "metadata": {},
   "outputs": [
    {
     "data": {
      "text/plain": [
       "\"Opéra, 10 Place de l'Opéra, 75009 Paris, France\""
      ]
     },
     "execution_count": 12,
     "metadata": {},
     "output_type": "execute_result"
    }
   ],
   "source": [
    "get_address(lat=48.871143, lng=2.332060)"
   ]
  },
  {
   "cell_type": "code",
   "execution_count": null,
   "metadata": {},
   "outputs": [],
   "source": []
  }
 ],
 "metadata": {
  "kernelspec": {
   "display_name": "_venv",
   "language": "python",
   "name": "_venv"
  },
  "language_info": {
   "codemirror_mode": {
    "name": "ipython",
    "version": 3
   },
   "file_extension": ".py",
   "mimetype": "text/x-python",
   "name": "python",
   "nbconvert_exporter": "python",
   "pygments_lexer": "ipython3",
   "version": "3.9.0"
  }
 },
 "nbformat": 4,
 "nbformat_minor": 4
}
