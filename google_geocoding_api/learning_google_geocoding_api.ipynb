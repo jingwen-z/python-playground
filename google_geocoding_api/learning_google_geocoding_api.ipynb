{
 "cells": [
  {
   "cell_type": "markdown",
   "metadata": {},
   "source": [
    "Geocoding API:\n",
    "<https://developers.google.com/maps/documentation/geocoding/overview>"
   ]
  },
  {
   "cell_type": "code",
   "execution_count": 1,
   "metadata": {},
   "outputs": [],
   "source": [
    "import pandas as pd\n",
    "pd.set_option('display.max_columns', None)\n",
    "pd.set_option('display.max_rows', None)\n",
    "\n",
    "import configparser\n",
    "from urllib.parse import urlencode\n",
    "import requests"
   ]
  },
  {
   "cell_type": "code",
   "execution_count": 2,
   "metadata": {},
   "outputs": [],
   "source": [
    "config = configparser.ConfigParser()\n",
    "config.read('/Users/jingwen/Documents/python/global_key.properties')\n",
    "key = config['google']['python.playground']"
   ]
  },
  {
   "cell_type": "markdown",
   "metadata": {},
   "source": [
    "## Get information by coordinates"
   ]
  },
  {
   "cell_type": "code",
   "execution_count": 4,
   "metadata": {},
   "outputs": [],
   "source": [
    "adr = '52 Rue Rambuteau, 75003 Paris'\n",
    "\n",
    "response = requests.get(\n",
    "    'https://maps.googleapis.com/maps/api/geocode/json?' + urlencode({'address': adr, 'key': key}))\n",
    "resp_address = response.json()"
   ]
  },
  {
   "cell_type": "code",
   "execution_count": 5,
   "metadata": {},
   "outputs": [
    {
     "data": {
      "text/plain": [
       "{'results': [{'address_components': [{'long_name': '52',\n",
       "     'short_name': '52',\n",
       "     'types': ['street_number']},\n",
       "    {'long_name': 'Rue Rambuteau',\n",
       "     'short_name': 'Rue Rambuteau',\n",
       "     'types': ['route']},\n",
       "    {'long_name': 'Paris',\n",
       "     'short_name': 'Paris',\n",
       "     'types': ['locality', 'political']},\n",
       "    {'long_name': 'Département de Paris',\n",
       "     'short_name': 'Département de Paris',\n",
       "     'types': ['administrative_area_level_2', 'political']},\n",
       "    {'long_name': 'Île-de-France',\n",
       "     'short_name': 'IDF',\n",
       "     'types': ['administrative_area_level_1', 'political']},\n",
       "    {'long_name': 'France',\n",
       "     'short_name': 'FR',\n",
       "     'types': ['country', 'political']},\n",
       "    {'long_name': '75003', 'short_name': '75003', 'types': ['postal_code']}],\n",
       "   'formatted_address': '52 Rue Rambuteau, 75003 Paris, France',\n",
       "   'geometry': {'location': {'lat': 48.8616653, 'lng': 2.3519186},\n",
       "    'location_type': 'ROOFTOP',\n",
       "    'viewport': {'northeast': {'lat': 48.8630142802915,\n",
       "      'lng': 2.353267580291502},\n",
       "     'southwest': {'lat': 48.8603163197085, 'lng': 2.350569619708498}}},\n",
       "   'place_id': 'ChIJicC18htu5kcRO7GQgmsBLh8',\n",
       "   'plus_code': {'compound_code': 'V962+MQ Paris, France',\n",
       "    'global_code': '8FW4V962+MQ'},\n",
       "   'types': ['street_address']}],\n",
       " 'status': 'OK'}"
      ]
     },
     "execution_count": 5,
     "metadata": {},
     "output_type": "execute_result"
    }
   ],
   "source": [
    "resp_address"
   ]
  },
  {
   "cell_type": "code",
   "execution_count": 11,
   "metadata": {},
   "outputs": [
    {
     "data": {
      "text/plain": [
       "{'lat': 48.8616653, 'lng': 2.3519186}"
      ]
     },
     "execution_count": 11,
     "metadata": {},
     "output_type": "execute_result"
    }
   ],
   "source": [
    "resp_address['results'][0]['geometry']['location']"
   ]
  },
  {
   "cell_type": "code",
   "execution_count": 12,
   "metadata": {},
   "outputs": [],
   "source": [
    "def get_coordinates(adr, key=key):\n",
    "    response = requests.get(\n",
    "        'https://maps.googleapis.com/maps/api/geocode/json?' + urlencode({'address': adr, 'key': key}))\n",
    "    resp_address = response.json()\n",
    "        \n",
    "    if resp_address['status'] == 'OK':\n",
    "        lat = resp_address['results'][0]['geometry']['location']['lat']\n",
    "        lng = resp_address['results'][0]['geometry']['location']['lng']\n",
    "        formatted_addr = resp_address['results'][0]['formatted_address']\n",
    "        return [lat, lng, formatted_addr]\n",
    "    else:\n",
    "        print('Failed to get json response:', resp_address)\n",
    "        return ['Latitude is not found', 'Longitude is not found', address]"
   ]
  },
  {
   "cell_type": "code",
   "execution_count": 13,
   "metadata": {},
   "outputs": [
    {
     "data": {
      "text/plain": [
       "[48.8616653, 2.3519186, '52 Rue Rambuteau, 75003 Paris, France']"
      ]
     },
     "execution_count": 13,
     "metadata": {},
     "output_type": "execute_result"
    }
   ],
   "source": [
    "get_coordinates(adr='52 Rue Rambuteau, 75003 Paris')"
   ]
  },
  {
   "cell_type": "markdown",
   "metadata": {},
   "source": [
    "## Get information by address"
   ]
  },
  {
   "cell_type": "code",
   "execution_count": null,
   "metadata": {},
   "outputs": [],
   "source": []
  },
  {
   "cell_type": "code",
   "execution_count": null,
   "metadata": {},
   "outputs": [],
   "source": []
  },
  {
   "cell_type": "code",
   "execution_count": null,
   "metadata": {},
   "outputs": [],
   "source": []
  },
  {
   "cell_type": "code",
   "execution_count": null,
   "metadata": {},
   "outputs": [],
   "source": []
  },
  {
   "cell_type": "code",
   "execution_count": null,
   "metadata": {},
   "outputs": [],
   "source": []
  },
  {
   "cell_type": "code",
   "execution_count": null,
   "metadata": {},
   "outputs": [],
   "source": []
  }
 ],
 "metadata": {
  "kernelspec": {
   "display_name": "_venv",
   "language": "python",
   "name": "_venv"
  },
  "language_info": {
   "codemirror_mode": {
    "name": "ipython",
    "version": 3
   },
   "file_extension": ".py",
   "mimetype": "text/x-python",
   "name": "python",
   "nbconvert_exporter": "python",
   "pygments_lexer": "ipython3",
   "version": "3.9.0"
  }
 },
 "nbformat": 4,
 "nbformat_minor": 4
}
