{
 "cells": [
  {
   "cell_type": "markdown",
   "metadata": {},
   "source": [
    "- Données relatives à l'activité partielle dans le cadre de l'épidémie de COVID-19 en France\n",
    "<https://public.opendatasoft.com/explore/dataset/donnees-relatives-activite-partielle-covid-19-france/table/?dataChart=eyJxdWVyaWVzIjpbeyJjaGFydHMiOlt7InR5cGUiOiJjb2x1bW4iLCJmdW5jIjoiU1VNIiwieUF4aXMiOiJyZXF1ZXN0X2tjb3VudCIsInNjaWVudGlmaWNEaXNwbGF5Ijp0cnVlLCJjb2xvciI6IiNGRjUxNUEifV0sInhBeGlzIjoibmFjZV9uYW1lIiwibWF4cG9pbnRzIjo1MCwic29ydCI6InNlcmllMS0xIiwiY29uZmlnIjp7ImRhdGFzZXQiOiJkb25uZWVzLXJlbGF0aXZlcy1hY3Rpdml0ZS1wYXJ0aWVsbGUtY292aWQtMTktZnJhbmNlIiwib3B0aW9ucyI6e319fV0sInRpbWVzY2FsZSI6IiIsImRpc3BsYXlMZWdlbmQiOnRydWUsImFsaWduTW9udGgiOnRydWV9>"
   ]
  },
  {
   "cell_type": "code",
   "execution_count": 1,
   "metadata": {},
   "outputs": [],
   "source": [
    "import pandas as pd\n",
    "import geopandas\n",
    "\n",
    "import matplotlib.pyplot as plt"
   ]
  },
  {
   "cell_type": "markdown",
   "metadata": {},
   "source": [
    "## Importing data"
   ]
  },
  {
   "cell_type": "code",
   "execution_count": 2,
   "metadata": {},
   "outputs": [],
   "source": [
    "activite_partielle_df = pd.read_csv('donnees-relatives-activite-partielle-covid-19-france.csv', sep=';')\n",
    "dept_geo = geopandas.read_file('departements.geojson', driver='GeoJSON')"
   ]
  },
  {
   "cell_type": "code",
   "execution_count": 3,
   "metadata": {},
   "outputs": [
    {
     "data": {
      "text/html": [
       "<div>\n",
       "<style scoped>\n",
       "    .dataframe tbody tr th:only-of-type {\n",
       "        vertical-align: middle;\n",
       "    }\n",
       "\n",
       "    .dataframe tbody tr th {\n",
       "        vertical-align: top;\n",
       "    }\n",
       "\n",
       "    .dataframe thead th {\n",
       "        text-align: right;\n",
       "    }\n",
       "</style>\n",
       "<table border=\"1\" class=\"dataframe\">\n",
       "  <thead>\n",
       "    <tr style=\"text-align: right;\">\n",
       "      <th></th>\n",
       "      <th>Dispositif</th>\n",
       "      <th>Nombre de demandes déposées</th>\n",
       "      <th>Nombre de salariés concernés</th>\n",
       "      <th>Nombre d'heures demandées</th>\n",
       "      <th>Nombre d'établissements concernés</th>\n",
       "      <th>Code Officiel Région</th>\n",
       "      <th>Nom Région</th>\n",
       "      <th>Code Officiel Département</th>\n",
       "      <th>Nom Département</th>\n",
       "      <th>Code Section NACE17</th>\n",
       "      <th>Nom Section NACE17</th>\n",
       "      <th>date_maj</th>\n",
       "      <th>Geo Point</th>\n",
       "      <th>Code ISO 3166 Zone</th>\n",
       "      <th>Nombre de salariés concernés en M</th>\n",
       "      <th>Nombre de demandes déposées en milliers</th>\n",
       "      <th>Nombre d'heures demandées en M</th>\n",
       "      <th>Nombre d'établissements concernés en milliers</th>\n",
       "    </tr>\n",
       "  </thead>\n",
       "  <tbody>\n",
       "    <tr>\n",
       "      <th>0</th>\n",
       "      <td>Activite Partielle</td>\n",
       "      <td>85.0</td>\n",
       "      <td>330.0</td>\n",
       "      <td>106590.0</td>\n",
       "      <td>80.0</td>\n",
       "      <td>84.0</td>\n",
       "      <td>Auvergne-Rhône-Alpes</td>\n",
       "      <td>07</td>\n",
       "      <td>Ardèche</td>\n",
       "      <td>AZ</td>\n",
       "      <td>Agriculture, sylviculture et pêche</td>\n",
       "      <td>2020-07-21</td>\n",
       "      <td>44.752802029,4.42552170882</td>\n",
       "      <td>FXX</td>\n",
       "      <td>0.000330</td>\n",
       "      <td>0.085</td>\n",
       "      <td>0.106590</td>\n",
       "      <td>0.080</td>\n",
       "    </tr>\n",
       "    <tr>\n",
       "      <th>1</th>\n",
       "      <td>Activite Partielle</td>\n",
       "      <td>25.0</td>\n",
       "      <td>3765.0</td>\n",
       "      <td>1993420.0</td>\n",
       "      <td>25.0</td>\n",
       "      <td>84.0</td>\n",
       "      <td>Auvergne-Rhône-Alpes</td>\n",
       "      <td>07</td>\n",
       "      <td>Ardèche</td>\n",
       "      <td>C4</td>\n",
       "      <td>Fabrication de matériels de transport</td>\n",
       "      <td>2020-07-21</td>\n",
       "      <td>44.752802029,4.42552170882</td>\n",
       "      <td>FXX</td>\n",
       "      <td>0.003765</td>\n",
       "      <td>0.025</td>\n",
       "      <td>1.993420</td>\n",
       "      <td>0.025</td>\n",
       "    </tr>\n",
       "    <tr>\n",
       "      <th>2</th>\n",
       "      <td>Activite Partielle</td>\n",
       "      <td>575.0</td>\n",
       "      <td>4980.0</td>\n",
       "      <td>1512015.0</td>\n",
       "      <td>515.0</td>\n",
       "      <td>84.0</td>\n",
       "      <td>Auvergne-Rhône-Alpes</td>\n",
       "      <td>07</td>\n",
       "      <td>Ardèche</td>\n",
       "      <td>MN</td>\n",
       "      <td>Act. scientif. et tech. ; services admin. et d...</td>\n",
       "      <td>2020-07-21</td>\n",
       "      <td>44.752802029,4.42552170882</td>\n",
       "      <td>FXX</td>\n",
       "      <td>0.004980</td>\n",
       "      <td>0.575</td>\n",
       "      <td>1.512015</td>\n",
       "      <td>0.515</td>\n",
       "    </tr>\n",
       "  </tbody>\n",
       "</table>\n",
       "</div>"
      ],
      "text/plain": [
       "           Dispositif  Nombre de demandes déposées  \\\n",
       "0  Activite Partielle                         85.0   \n",
       "1  Activite Partielle                         25.0   \n",
       "2  Activite Partielle                        575.0   \n",
       "\n",
       "   Nombre de salariés concernés  Nombre d'heures demandées  \\\n",
       "0                         330.0                   106590.0   \n",
       "1                        3765.0                  1993420.0   \n",
       "2                        4980.0                  1512015.0   \n",
       "\n",
       "   Nombre d'établissements concernés  Code Officiel Région  \\\n",
       "0                               80.0                  84.0   \n",
       "1                               25.0                  84.0   \n",
       "2                              515.0                  84.0   \n",
       "\n",
       "             Nom Région Code Officiel Département Nom Département  \\\n",
       "0  Auvergne-Rhône-Alpes                        07         Ardèche   \n",
       "1  Auvergne-Rhône-Alpes                        07         Ardèche   \n",
       "2  Auvergne-Rhône-Alpes                        07         Ardèche   \n",
       "\n",
       "  Code Section NACE17                                 Nom Section NACE17  \\\n",
       "0                  AZ                 Agriculture, sylviculture et pêche   \n",
       "1                  C4              Fabrication de matériels de transport   \n",
       "2                  MN  Act. scientif. et tech. ; services admin. et d...   \n",
       "\n",
       "     date_maj                   Geo Point Code ISO 3166 Zone  \\\n",
       "0  2020-07-21  44.752802029,4.42552170882                FXX   \n",
       "1  2020-07-21  44.752802029,4.42552170882                FXX   \n",
       "2  2020-07-21  44.752802029,4.42552170882                FXX   \n",
       "\n",
       "   Nombre de salariés concernés en M  Nombre de demandes déposées en milliers  \\\n",
       "0                           0.000330                                    0.085   \n",
       "1                           0.003765                                    0.025   \n",
       "2                           0.004980                                    0.575   \n",
       "\n",
       "   Nombre d'heures demandées en M  \\\n",
       "0                        0.106590   \n",
       "1                        1.993420   \n",
       "2                        1.512015   \n",
       "\n",
       "   Nombre d'établissements concernés en milliers  \n",
       "0                                          0.080  \n",
       "1                                          0.025  \n",
       "2                                          0.515  "
      ]
     },
     "execution_count": 3,
     "metadata": {},
     "output_type": "execute_result"
    }
   ],
   "source": [
    "activite_partielle_df.head(3)"
   ]
  },
  {
   "cell_type": "code",
   "execution_count": 4,
   "metadata": {},
   "outputs": [
    {
     "data": {
      "text/html": [
       "<div>\n",
       "<style scoped>\n",
       "    .dataframe tbody tr th:only-of-type {\n",
       "        vertical-align: middle;\n",
       "    }\n",
       "\n",
       "    .dataframe tbody tr th {\n",
       "        vertical-align: top;\n",
       "    }\n",
       "\n",
       "    .dataframe thead th {\n",
       "        text-align: right;\n",
       "    }\n",
       "</style>\n",
       "<table border=\"1\" class=\"dataframe\">\n",
       "  <thead>\n",
       "    <tr style=\"text-align: right;\">\n",
       "      <th></th>\n",
       "      <th>code</th>\n",
       "      <th>nom</th>\n",
       "      <th>geometry</th>\n",
       "    </tr>\n",
       "  </thead>\n",
       "  <tbody>\n",
       "    <tr>\n",
       "      <th>0</th>\n",
       "      <td>01</td>\n",
       "      <td>Ain</td>\n",
       "      <td>POLYGON ((4.78021 46.17668, 4.78024 46.18905, ...</td>\n",
       "    </tr>\n",
       "    <tr>\n",
       "      <th>1</th>\n",
       "      <td>02</td>\n",
       "      <td>Aisne</td>\n",
       "      <td>POLYGON ((3.17296 50.01131, 3.17382 50.01186, ...</td>\n",
       "    </tr>\n",
       "    <tr>\n",
       "      <th>2</th>\n",
       "      <td>03</td>\n",
       "      <td>Allier</td>\n",
       "      <td>POLYGON ((3.03207 46.79491, 3.03424 46.7908, 3...</td>\n",
       "    </tr>\n",
       "  </tbody>\n",
       "</table>\n",
       "</div>"
      ],
      "text/plain": [
       "  code     nom                                           geometry\n",
       "0   01     Ain  POLYGON ((4.78021 46.17668, 4.78024 46.18905, ...\n",
       "1   02   Aisne  POLYGON ((3.17296 50.01131, 3.17382 50.01186, ...\n",
       "2   03  Allier  POLYGON ((3.03207 46.79491, 3.03424 46.7908, 3..."
      ]
     },
     "execution_count": 4,
     "metadata": {},
     "output_type": "execute_result"
    }
   ],
   "source": [
    "dept_geo.head(3)"
   ]
  },
  {
   "cell_type": "code",
   "execution_count": 5,
   "metadata": {},
   "outputs": [
    {
     "data": {
      "text/plain": [
       "18"
      ]
     },
     "execution_count": 5,
     "metadata": {},
     "output_type": "execute_result"
    }
   ],
   "source": [
    "activite_partielle_df['Nom Région'].nunique()"
   ]
  },
  {
   "cell_type": "markdown",
   "metadata": {},
   "source": [
    "## Analysis"
   ]
  },
  {
   "cell_type": "code",
   "execution_count": 6,
   "metadata": {},
   "outputs": [],
   "source": [
    "quantitative_vars = ['Nombre de salariés concernés en M',\n",
    "                     'Nombre de demandes déposées en milliers',\n",
    "                     'Nombre d\\'heures demandées en M',\n",
    "                     'Nombre d\\'établissements concernés en milliers']"
   ]
  },
  {
   "cell_type": "markdown",
   "metadata": {},
   "source": [
    "### Cumul per section"
   ]
  },
  {
   "cell_type": "code",
   "execution_count": 7,
   "metadata": {},
   "outputs": [],
   "source": [
    "cumul_section = activite_partielle_df.groupby(['Code Section NACE17'])[quantitative_vars].sum().reset_index()"
   ]
  },
  {
   "cell_type": "code",
   "execution_count": 8,
   "metadata": {},
   "outputs": [
    {
     "data": {
      "text/html": [
       "<div>\n",
       "<style scoped>\n",
       "    .dataframe tbody tr th:only-of-type {\n",
       "        vertical-align: middle;\n",
       "    }\n",
       "\n",
       "    .dataframe tbody tr th {\n",
       "        vertical-align: top;\n",
       "    }\n",
       "\n",
       "    .dataframe thead th {\n",
       "        text-align: right;\n",
       "    }\n",
       "</style>\n",
       "<table border=\"1\" class=\"dataframe\">\n",
       "  <thead>\n",
       "    <tr style=\"text-align: right;\">\n",
       "      <th></th>\n",
       "      <th>Code Section NACE17</th>\n",
       "      <th>Nombre de salariés concernés en M</th>\n",
       "      <th>Nombre de demandes déposées en milliers</th>\n",
       "      <th>Nombre d'heures demandées en M</th>\n",
       "      <th>Nombre d'établissements concernés en milliers</th>\n",
       "    </tr>\n",
       "  </thead>\n",
       "  <tbody>\n",
       "    <tr>\n",
       "      <th>14</th>\n",
       "      <td>MN</td>\n",
       "      <td>2.831815</td>\n",
       "      <td>206.215</td>\n",
       "      <td>1107.146935</td>\n",
       "      <td>181.030</td>\n",
       "    </tr>\n",
       "    <tr>\n",
       "      <th>8</th>\n",
       "      <td>GZ</td>\n",
       "      <td>2.208570</td>\n",
       "      <td>321.855</td>\n",
       "      <td>1091.891730</td>\n",
       "      <td>291.550</td>\n",
       "    </tr>\n",
       "    <tr>\n",
       "      <th>7</th>\n",
       "      <td>FZ</td>\n",
       "      <td>1.516080</td>\n",
       "      <td>191.030</td>\n",
       "      <td>764.449770</td>\n",
       "      <td>171.400</td>\n",
       "    </tr>\n",
       "    <tr>\n",
       "      <th>10</th>\n",
       "      <td>IZ</td>\n",
       "      <td>1.262135</td>\n",
       "      <td>181.945</td>\n",
       "      <td>726.285715</td>\n",
       "      <td>155.640</td>\n",
       "    </tr>\n",
       "    <tr>\n",
       "      <th>5</th>\n",
       "      <td>C5</td>\n",
       "      <td>1.235860</td>\n",
       "      <td>65.285</td>\n",
       "      <td>604.926925</td>\n",
       "      <td>55.885</td>\n",
       "    </tr>\n",
       "  </tbody>\n",
       "</table>\n",
       "</div>"
      ],
      "text/plain": [
       "   Code Section NACE17  Nombre de salariés concernés en M  \\\n",
       "14                  MN                           2.831815   \n",
       "8                   GZ                           2.208570   \n",
       "7                   FZ                           1.516080   \n",
       "10                  IZ                           1.262135   \n",
       "5                   C5                           1.235860   \n",
       "\n",
       "    Nombre de demandes déposées en milliers  Nombre d'heures demandées en M  \\\n",
       "14                                  206.215                     1107.146935   \n",
       "8                                   321.855                     1091.891730   \n",
       "7                                   191.030                      764.449770   \n",
       "10                                  181.945                      726.285715   \n",
       "5                                    65.285                      604.926925   \n",
       "\n",
       "    Nombre d'établissements concernés en milliers  \n",
       "14                                        181.030  \n",
       "8                                         291.550  \n",
       "7                                         171.400  \n",
       "10                                        155.640  \n",
       "5                                          55.885  "
      ]
     },
     "execution_count": 8,
     "metadata": {},
     "output_type": "execute_result"
    }
   ],
   "source": [
    "(cumul_section.sort_values('Nombre de salariés concernés en M', ascending=False)).head()"
   ]
  },
  {
   "cell_type": "code",
   "execution_count": 9,
   "metadata": {},
   "outputs": [
    {
     "data": {
      "image/png": "[encoded data removed]",
      "text/plain": [
       "<Figure size 1152x720 with 4 Axes>"
      ]
     },
     "metadata": {
      "needs_background": "light"
     },
     "output_type": "display_data"
    }
   ],
   "source": [
    "fig, ax = plt.subplots(nrows=2, ncols=2, figsize=(16, 10))\n",
    "width = 0.3\n",
    "\n",
    "rects00 = ax[0, 0].bar(\n",
    "    cumul_section.sort_values('Nombre de salariés concernés en M', ascending=False)['Code Section NACE17'],\n",
    "    cumul_section.sort_values('Nombre de salariés concernés en M', ascending=False)['Nombre de salariés concernés en M'],\n",
    "    width)\n",
    "rects01 = ax[0, 1].bar(\n",
    "    cumul_section.sort_values('Nombre de demandes déposées en milliers', ascending=False)['Code Section NACE17'],\n",
    "    cumul_section.sort_values('Nombre de demandes déposées en milliers', ascending=False)['Nombre de demandes déposées en milliers'],\n",
    "    width)\n",
    "rects10 = ax[1, 0].bar(\n",
    "    cumul_section.sort_values('Nombre d\\'heures demandées en M', ascending=False)['Code Section NACE17'],\n",
    "    cumul_section.sort_values('Nombre d\\'heures demandées en M', ascending=False)['Nombre d\\'heures demandées en M'],\n",
    "    width)\n",
    "rects11 = ax[1, 1].bar(\n",
    "    cumul_section.sort_values('Nombre d\\'établissements concernés en milliers', ascending=False)['Code Section NACE17'],\n",
    "    cumul_section.sort_values('Nombre d\\'établissements concernés en milliers', ascending=False)['Nombre d\\'établissements concernés en milliers'],\n",
    "    width)\n",
    "\n",
    "\n",
    "\n",
    "plt.subplots_adjust(hspace=0.2, top=0.9, bottom=0.1, left=0.1, right=0.9)\n",
    "plt.show()\n"
   ]
  },
  {
   "cell_type": "code",
   "execution_count": null,
   "metadata": {},
   "outputs": [],
   "source": []
  },
  {
   "cell_type": "code",
   "execution_count": null,
   "metadata": {},
   "outputs": [],
   "source": []
  },
  {
   "cell_type": "code",
   "execution_count": null,
   "metadata": {},
   "outputs": [],
   "source": []
  },
  {
   "cell_type": "code",
   "execution_count": null,
   "metadata": {},
   "outputs": [],
   "source": []
  },
  {
   "cell_type": "markdown",
   "metadata": {},
   "source": [
    "### Cumul per région"
   ]
  },
  {
   "cell_type": "code",
   "execution_count": null,
   "metadata": {},
   "outputs": [],
   "source": []
  },
  {
   "cell_type": "code",
   "execution_count": null,
   "metadata": {},
   "outputs": [],
   "source": []
  },
  {
   "cell_type": "markdown",
   "metadata": {},
   "source": [
    "### Map: cumul per department"
   ]
  },
  {
   "cell_type": "code",
   "execution_count": null,
   "metadata": {},
   "outputs": [],
   "source": []
  },
  {
   "cell_type": "code",
   "execution_count": null,
   "metadata": {},
   "outputs": [],
   "source": []
  },
  {
   "cell_type": "code",
   "execution_count": null,
   "metadata": {},
   "outputs": [],
   "source": []
  },
  {
   "cell_type": "markdown",
   "metadata": {},
   "source": [
    "### Time series: total / per section / per région"
   ]
  },
  {
   "cell_type": "code",
   "execution_count": null,
   "metadata": {},
   "outputs": [],
   "source": []
  },
  {
   "cell_type": "code",
   "execution_count": null,
   "metadata": {},
   "outputs": [],
   "source": []
  },
  {
   "cell_type": "code",
   "execution_count": null,
   "metadata": {},
   "outputs": [],
   "source": []
  },
  {
   "cell_type": "code",
   "execution_count": null,
   "metadata": {},
   "outputs": [],
   "source": []
  },
  {
   "cell_type": "code",
   "execution_count": null,
   "metadata": {},
   "outputs": [],
   "source": []
  }
 ],
 "metadata": {
  "kernelspec": {
   "display_name": "Python 3",
   "language": "python",
   "name": "python3"
  },
  "language_info": {
   "codemirror_mode": {
    "name": "ipython",
    "version": 3
   },
   "file_extension": ".py",
   "mimetype": "text/x-python",
   "name": "python",
   "nbconvert_exporter": "python",
   "pygments_lexer": "ipython3",
   "version": "3.7.3"
  }
 },
 "nbformat": 4,
 "nbformat_minor": 2
}
