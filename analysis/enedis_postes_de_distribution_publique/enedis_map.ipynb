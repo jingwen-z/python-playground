{
 "cells": [
  {
   "cell_type": "markdown",
   "metadata": {},
   "source": [
    "Data source:<br>\n",
    "Postes de distribution publique (postes HTA/BT): https://data.enedis.fr/explore/dataset/poste-electrique/export/?location=8,43.52905,2.28291&basemap=jawg.streets"
   ]
  },
  {
   "cell_type": "code",
   "execution_count": 1,
   "metadata": {},
   "outputs": [],
   "source": [
    "import pandas as pd\n",
    "pd.set_option('display.max_columns', None)\n",
    "pd.set_option('display.max_rows', None)\n",
    "import numpy as np\n",
    "\n",
    "import fiona\n",
    "from shapely.geometry import Point, shape \n",
    "import geopandas as gpd\n",
    "# import folium\n"
   ]
  },
  {
   "cell_type": "code",
   "execution_count": 2,
   "metadata": {},
   "outputs": [],
   "source": [
    "enedis_df = pd.read_csv('poste-electrique.csv', sep=';')\n",
    "\n",
    "fr_border_df = gpd.read_file('../geo_datasets/fr_metropole.geojson', driver='GeoJSON')\n"
   ]
  },
  {
   "cell_type": "code",
   "execution_count": 3,
   "metadata": {},
   "outputs": [],
   "source": [
    "enedis_df['geo_point_list'] = enedis_df['Geo Point'].apply(lambda x: x.split(','))\n",
    "enedis_df['LAT'] = enedis_df['geo_point_list'].apply(lambda x: x[0])\n",
    "enedis_df['LAT'] = enedis_df['LAT'].astype(float)\n",
    "enedis_df['LNG'] = enedis_df['geo_point_list'].apply(lambda x: x[1])\n",
    "enedis_df['LNG'] = enedis_df['LNG'].astype(float)\n"
   ]
  },
  {
   "cell_type": "code",
   "execution_count": 4,
   "metadata": {},
   "outputs": [
    {
     "data": {
      "text/html": [
       "<div>\n",
       "<style scoped>\n",
       "    .dataframe tbody tr th:only-of-type {\n",
       "        vertical-align: middle;\n",
       "    }\n",
       "\n",
       "    .dataframe tbody tr th {\n",
       "        vertical-align: top;\n",
       "    }\n",
       "\n",
       "    .dataframe thead th {\n",
       "        text-align: right;\n",
       "    }\n",
       "</style>\n",
       "<table border=\"1\" class=\"dataframe\">\n",
       "  <thead>\n",
       "    <tr style=\"text-align: right;\">\n",
       "      <th></th>\n",
       "      <th>Geo Point</th>\n",
       "      <th>Geo Shape</th>\n",
       "      <th>E_Poste_ID</th>\n",
       "      <th>geo_point_list</th>\n",
       "      <th>LAT</th>\n",
       "      <th>LNG</th>\n",
       "    </tr>\n",
       "  </thead>\n",
       "  <tbody>\n",
       "    <tr>\n",
       "      <th>0</th>\n",
       "      <td>47.230048323,1.23493197216</td>\n",
       "      <td>{\"type\": \"Point\", \"coordinates\": [1.2349319721...</td>\n",
       "      <td>NaN</td>\n",
       "      <td>[47.230048323, 1.23493197216]</td>\n",
       "      <td>47.230048</td>\n",
       "      <td>1.234932</td>\n",
       "    </tr>\n",
       "    <tr>\n",
       "      <th>1</th>\n",
       "      <td>47.219198731,1.22458486322</td>\n",
       "      <td>{\"type\": \"Point\", \"coordinates\": [1.2245848632...</td>\n",
       "      <td>NaN</td>\n",
       "      <td>[47.219198731, 1.22458486322]</td>\n",
       "      <td>47.219199</td>\n",
       "      <td>1.224585</td>\n",
       "    </tr>\n",
       "    <tr>\n",
       "      <th>2</th>\n",
       "      <td>47.2089044617,1.23071853273</td>\n",
       "      <td>{\"type\": \"Point\", \"coordinates\": [1.2307185327...</td>\n",
       "      <td>NaN</td>\n",
       "      <td>[47.2089044617, 1.23071853273]</td>\n",
       "      <td>47.208904</td>\n",
       "      <td>1.230719</td>\n",
       "    </tr>\n",
       "    <tr>\n",
       "      <th>3</th>\n",
       "      <td>47.1874081696,1.23150017662</td>\n",
       "      <td>{\"type\": \"Point\", \"coordinates\": [1.2315001766...</td>\n",
       "      <td>NaN</td>\n",
       "      <td>[47.1874081696, 1.23150017662]</td>\n",
       "      <td>47.187408</td>\n",
       "      <td>1.231500</td>\n",
       "    </tr>\n",
       "    <tr>\n",
       "      <th>4</th>\n",
       "      <td>47.2281071716,1.25407586548</td>\n",
       "      <td>{\"type\": \"Point\", \"coordinates\": [1.2540758654...</td>\n",
       "      <td>NaN</td>\n",
       "      <td>[47.2281071716, 1.25407586548]</td>\n",
       "      <td>47.228107</td>\n",
       "      <td>1.254076</td>\n",
       "    </tr>\n",
       "  </tbody>\n",
       "</table>\n",
       "</div>"
      ],
      "text/plain": [
       "                     Geo Point  \\\n",
       "0   47.230048323,1.23493197216   \n",
       "1   47.219198731,1.22458486322   \n",
       "2  47.2089044617,1.23071853273   \n",
       "3  47.1874081696,1.23150017662   \n",
       "4  47.2281071716,1.25407586548   \n",
       "\n",
       "                                           Geo Shape  E_Poste_ID  \\\n",
       "0  {\"type\": \"Point\", \"coordinates\": [1.2349319721...         NaN   \n",
       "1  {\"type\": \"Point\", \"coordinates\": [1.2245848632...         NaN   \n",
       "2  {\"type\": \"Point\", \"coordinates\": [1.2307185327...         NaN   \n",
       "3  {\"type\": \"Point\", \"coordinates\": [1.2315001766...         NaN   \n",
       "4  {\"type\": \"Point\", \"coordinates\": [1.2540758654...         NaN   \n",
       "\n",
       "                   geo_point_list        LAT       LNG  \n",
       "0   [47.230048323, 1.23493197216]  47.230048  1.234932  \n",
       "1   [47.219198731, 1.22458486322]  47.219199  1.224585  \n",
       "2  [47.2089044617, 1.23071853273]  47.208904  1.230719  \n",
       "3  [47.1874081696, 1.23150017662]  47.187408  1.231500  \n",
       "4  [47.2281071716, 1.25407586548]  47.228107  1.254076  "
      ]
     },
     "execution_count": 4,
     "metadata": {},
     "output_type": "execute_result"
    }
   ],
   "source": [
    "enedis_df.head()"
   ]
  },
  {
   "cell_type": "markdown",
   "metadata": {},
   "source": [
    "**keplergl**"
   ]
  },
  {
   "cell_type": "code",
   "execution_count": 5,
   "metadata": {},
   "outputs": [],
   "source": [
    "config = {\n",
    "'version': 'v1',\n",
    "'config': {\n",
    "    'mapState': {\n",
    "        'latitude': 46.803354,\n",
    "        'longitude': 1.8883335,\n",
    "        'zoom': 5\n",
    "    }\n",
    "}\n",
    "}"
   ]
  },
  {
   "cell_type": "code",
   "execution_count": 6,
   "metadata": {},
   "outputs": [],
   "source": [
    "from keplergl import KeplerGl\n",
    "posts_map = KeplerGl(height=700, data={\"posts\": enedis_df}, config=config)\n",
    "# posts_map\n"
   ]
  },
  {
   "cell_type": "code",
   "execution_count": null,
   "metadata": {},
   "outputs": [],
   "source": []
  },
  {
   "cell_type": "code",
   "execution_count": null,
   "metadata": {},
   "outputs": [],
   "source": []
  },
  {
   "cell_type": "code",
   "execution_count": null,
   "metadata": {},
   "outputs": [],
   "source": []
  },
  {
   "cell_type": "code",
   "execution_count": null,
   "metadata": {},
   "outputs": [],
   "source": []
  },
  {
   "cell_type": "code",
   "execution_count": null,
   "metadata": {},
   "outputs": [],
   "source": []
  },
  {
   "cell_type": "code",
   "execution_count": null,
   "metadata": {},
   "outputs": [],
   "source": []
  },
  {
   "cell_type": "code",
   "execution_count": null,
   "metadata": {},
   "outputs": [],
   "source": []
  },
  {
   "cell_type": "code",
   "execution_count": null,
   "metadata": {},
   "outputs": [],
   "source": []
  },
  {
   "cell_type": "code",
   "execution_count": null,
   "metadata": {},
   "outputs": [],
   "source": []
  }
 ],
 "metadata": {
  "kernelspec": {
   "display_name": "_venv",
   "language": "python",
   "name": "_venv"
  },
  "language_info": {
   "codemirror_mode": {
    "name": "ipython",
    "version": 3
   },
   "file_extension": ".py",
   "mimetype": "text/x-python",
   "name": "python",
   "nbconvert_exporter": "python",
   "pygments_lexer": "ipython3",
   "version": "3.9.0"
  }
 },
 "nbformat": 4,
 "nbformat_minor": 4
}
