{
 "cells": [
  {
   "cell_type": "code",
   "execution_count": null,
   "metadata": {},
   "outputs": [],
   "source": [
    "import pandas as pd\n",
    "import numpy as np\n",
    "pd.set_option('display.max_columns', None)\n",
    "pd.set_option('display.max_rows', None)\n",
    "pd.set_option('display.float_format', lambda x: '%.1f' % x)\n",
    "from datetime import datetime, date\n",
    "import math\n",
    "import matplotlib\n",
    "import matplotlib.pyplot as plt\n",
    "from matplotlib import font_manager\n",
    "\n",
    "import geopandas\n",
    "import branca.colormap as cm\n",
    "from branca.element import Template, MacroElement\n",
    "import folium\n",
    "from folium import plugins"
   ]
  },
  {
   "cell_type": "code",
   "execution_count": null,
   "metadata": {},
   "outputs": [],
   "source": [
    "# mac os\n",
    "font_path = '/Library/Fonts/simhei.ttf'\n",
    "fontP = font_manager.FontProperties(fname=font_path)\n",
    "fontP.set_size(14)"
   ]
  },
  {
   "cell_type": "markdown",
   "metadata": {},
   "source": [
    "## Import datasets"
   ]
  },
  {
   "cell_type": "code",
   "execution_count": null,
   "metadata": {},
   "outputs": [],
   "source": [
    "tot_empl_province_df = pd.read_csv('datasets/按行业分城镇单位就业人员(万人)/城镇单位就业人员.csv',\n",
    "                                   header=3, encoding='gb2312')\n",
    "tot_empl_province_df = tot_empl_province_df[:31]\n",
    "tot_empl_province_df = tot_empl_province_df.fillna(0)"
   ]
  },
  {
   "cell_type": "code",
   "execution_count": null,
   "metadata": {},
   "outputs": [],
   "source": [
    "tot_salary_province_df = pd.read_csv('datasets/按行业分城镇单位就业人员平均工资(元)/城镇单位就业人员平均工资.csv',\n",
    "                                   header=3, encoding='gb2312')\n",
    "tot_salary_province_df = tot_salary_province_df[:31]\n",
    "tot_salary_province_df = tot_salary_province_df.fillna(0)"
   ]
  },
  {
   "cell_type": "code",
   "execution_count": null,
   "metadata": {},
   "outputs": [],
   "source": [
    "tot_chomageNb_province_df = pd.read_csv('datasets/城镇登记失业人数(万人).csv',\n",
    "                                   header=3, encoding='gb2312')\n",
    "tot_chomageNb_province_df = tot_chomageNb_province_df[:31]\n",
    "tot_chomageNb_province_df = tot_chomageNb_province_df.fillna(0)"
   ]
  },
  {
   "cell_type": "code",
   "execution_count": null,
   "metadata": {},
   "outputs": [],
   "source": [
    "tot_chomagePct_province_df = pd.read_csv('datasets/城镇登记失业率(%).csv',\n",
    "                                         header=3, encoding='gb2312')\n",
    "tot_chomagePct_province_df = tot_chomagePct_province_df[:31]\n",
    "tot_chomagePct_province_df = tot_chomagePct_province_df.fillna(0)"
   ]
  },
  {
   "cell_type": "code",
   "execution_count": null,
   "metadata": {},
   "outputs": [],
   "source": [
    "emplNb_province_df = pd.read_csv('datasets/empl_nb_final_per_province.csv')\n",
    "salary_province_df = pd.read_csv('datasets/salary_final_per_province.csv')"
   ]
  },
  {
   "cell_type": "markdown",
   "metadata": {},
   "source": [
    "## Employee amount"
   ]
  },
  {
   "cell_type": "code",
   "execution_count": null,
   "metadata": {
    "scrolled": true
   },
   "outputs": [],
   "source": [
    "tot_empl_province_df = tot_empl_province_df.sort_values('2019年', ascending=False).reset_index(drop=True)\n",
    "\n",
    "tot_empl_prov_top10_df = tot_empl_province_df.head(10).set_index('地区').T.iloc[::-1].reset_index()\n",
    "tot_empl_prov_top10_df['index'] = tot_empl_prov_top10_df['index'].apply(lambda x: x.split('年')[0])\n",
    "tot_empl_prov_top10_df = tot_empl_prov_top10_df.rename(columns = {'index':'year'})"
   ]
  },
  {
   "cell_type": "code",
   "execution_count": null,
   "metadata": {},
   "outputs": [],
   "source": [
    "tot_empl_prov_top10_df"
   ]
  },
  {
   "cell_type": "code",
   "execution_count": null,
   "metadata": {},
   "outputs": [],
   "source": [
    "fig, axarr = plt.subplots(nrows=1, ncols=1, figsize=(15, 10))\n",
    "width = 5\n",
    "\n",
    "line_gd, = axarr.plot(tot_empl_prov_top10_df['year'][7:-1],\n",
    "                      tot_empl_prov_top10_df['广东省'][7:-1],\n",
    "                      color='#0A62A5',\n",
    "                      linewidth=1.5,\n",
    "                      marker='.',\n",
    "#                       markersize=13\n",
    "                     )\n",
    "line_js, = axarr.plot(tot_empl_prov_top10_df['year'][7:-1],\n",
    "                      tot_empl_prov_top10_df['江苏省'][7:-1],\n",
    "                      color='#CC9801',\n",
    "                      linewidth=1.5,\n",
    "                      marker='.',\n",
    "#                       markersize=13\n",
    "                     )\n",
    "line_sd, = axarr.plot(tot_empl_prov_top10_df['year'][7:-1],\n",
    "                      tot_empl_prov_top10_df['山东省'][7:-1],\n",
    "                      color='#006460',\n",
    "                      linewidth=1.5,\n",
    "                      marker='.',\n",
    "#                       markersize=13\n",
    "                     )\n",
    "line_zj, = axarr.plot(tot_empl_prov_top10_df['year'][7:-1],\n",
    "                      tot_empl_prov_top10_df['浙江省'][7:-1],\n",
    "                      color='#850003',\n",
    "                      linewidth=1.5,\n",
    "                      marker='.',\n",
    "#                       markersize=13\n",
    "                     )\n",
    "line_hn, = axarr.plot(tot_empl_prov_top10_df['year'][7:-1],\n",
    "                      tot_empl_prov_top10_df['河南省'][7:-1],\n",
    "                      color='#4893cd',\n",
    "                      linewidth=1.5,\n",
    "                      marker='.',\n",
    "#                       markersize=13\n",
    "                     )\n",
    "line_bj, = axarr.plot(tot_empl_prov_top10_df['year'][7:-1],\n",
    "                      tot_empl_prov_top10_df['北京市'][7:-1],\n",
    "                      color='#fcc115',\n",
    "                      linewidth=1.5,\n",
    "                      marker='.',\n",
    "#                       markersize=13\n",
    "                     )\n",
    "line_sc, = axarr.plot(tot_empl_prov_top10_df['year'][7:-1],\n",
    "                      tot_empl_prov_top10_df['四川省'][7:-1],\n",
    "                      color='#05a39d',\n",
    "                      linewidth=1.5,\n",
    "                      marker='.',\n",
    "#                       markersize=13\n",
    "                     )\n",
    "line_sh, = axarr.plot(tot_empl_prov_top10_df['year'][7:-1],\n",
    "                      tot_empl_prov_top10_df['上海市'][7:-1],\n",
    "                      color='#d61218',\n",
    "                      linewidth=1.5,\n",
    "                      marker='.',\n",
    "#                       markersize=13\n",
    "                     )\n",
    "line_hb, = axarr.plot(tot_empl_prov_top10_df['year'][7:-1],\n",
    "                      tot_empl_prov_top10_df['湖北省'][7:-1],\n",
    "                      color='#aeafae',\n",
    "                      linewidth=1.5,\n",
    "                      marker='.',\n",
    "#                       markersize=13\n",
    "                     )\n",
    "line_fj, = axarr.plot(tot_empl_prov_top10_df['year'][7:-1],\n",
    "                      tot_empl_prov_top10_df['福建省'][7:-1],\n",
    "                      color='#0e314b',\n",
    "                      linewidth=1.5,\n",
    "                      marker='.',\n",
    "#                       markersize=8\n",
    "                     )\n",
    "\n",
    "\n",
    "\n",
    "axarr.tick_params(labelsize=13)\n",
    "axarr.set_xlim(0, 11)\n",
    "axarr.spines['top'].set_visible(False)\n",
    "axarr.set_ylabel('城镇单位就业人员(万人)', size=13, fontproperties=fontP)\n",
    "\n",
    "axarr.grid(which='major', axis='y', alpha=0.5)\n",
    "axarr.legend(handles=(line_gd, line_js, line_sd, line_zj, line_hn, \n",
    "                      line_bj, line_sc, line_sh, line_hb, line_fj),\n",
    "             labels=('广东省', '江苏省', '山东省', '浙江省', '河南省',\n",
    "                     '北京市', '四川省', '上海市', '湖北省', '福建省'),\n",
    "             ncol=2,\n",
    "             loc=2, prop=fontP)\n"
   ]
  },
  {
   "cell_type": "markdown",
   "metadata": {},
   "source": [
    "截止到2019年，就业人员数最多的十个省/直辖市为广东省、江苏省、山东省、浙江省、河南省、北京市、四川省、上海市、湖北省和福建省。其中，广东省、北京市和上海市的就业人数自2018年以来持续上涨，尤其是广东省，一直位居榜首。广东省统计局解读称，广东人口继续保持较快增长，主要有以下几方面原因：一是“全面两孩”生育政策有效持续发挥作用，使广东生育水平有所回升，自然增长人口逐年稳步增加；二是户籍机械变动促进广东人口规模的增长，根据公安部门数据，2020年广东户籍人口9808.66万人，比2010年增加1287.11万人；三是经济社会发展较快，吸纳了大量跨省流动人口。全省常住人口中，外省流入人口（半年以上）达2962.21万人，比2010年增加812.34万人，年均增长3.26%。华南城市研究会会长、暨南大学教授胡刚分析，近年来珠三角产业转型升级加快，高端制造业、信息经济等新兴产业快速发展，吸引了大量就业人口。同时珠三角地区近年来放开放宽落户限制，也吸引了很多人落户。"
   ]
  },
  {
   "cell_type": "code",
   "execution_count": null,
   "metadata": {},
   "outputs": [],
   "source": []
  },
  {
   "cell_type": "code",
   "execution_count": null,
   "metadata": {},
   "outputs": [],
   "source": []
  },
  {
   "cell_type": "code",
   "execution_count": null,
   "metadata": {},
   "outputs": [],
   "source": []
  },
  {
   "cell_type": "code",
   "execution_count": null,
   "metadata": {},
   "outputs": [],
   "source": []
  },
  {
   "cell_type": "code",
   "execution_count": null,
   "metadata": {},
   "outputs": [],
   "source": []
  },
  {
   "cell_type": "code",
   "execution_count": null,
   "metadata": {},
   "outputs": [],
   "source": []
  },
  {
   "cell_type": "markdown",
   "metadata": {},
   "source": [
    "## Reference\n",
    "\n",
    "- 林小昭， 第一财经，广东流动人口超5200万，深圳十年猛增700多万人 https://www.yicai.com/news/101051457.html\n",
    "- 吖海说热点，广东，凭什么成为全国最吸引人口的省份，远超江苏？https://www.sohu.com/a/466646223_120131445\n"
   ]
  },
  {
   "cell_type": "code",
   "execution_count": null,
   "metadata": {},
   "outputs": [],
   "source": []
  },
  {
   "cell_type": "code",
   "execution_count": null,
   "metadata": {},
   "outputs": [],
   "source": []
  }
 ],
 "metadata": {
  "kernelspec": {
   "display_name": "_venv",
   "language": "python",
   "name": "_venv"
  },
  "language_info": {
   "codemirror_mode": {
    "name": "ipython",
    "version": 3
   },
   "file_extension": ".py",
   "mimetype": "text/x-python",
   "name": "python",
   "nbconvert_exporter": "python",
   "pygments_lexer": "ipython3",
   "version": "3.9.0"
  }
 },
 "nbformat": 4,
 "nbformat_minor": 4
}
