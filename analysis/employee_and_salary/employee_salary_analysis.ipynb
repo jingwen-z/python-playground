{
 "cells": [
  {
   "cell_type": "code",
   "execution_count": null,
   "metadata": {},
   "outputs": [],
   "source": [
    "import pandas as pd\n",
    "import numpy as np\n",
    "pd.set_option('display.max_columns', None)\n",
    "pd.set_option('display.max_rows', None)\n",
    "pd.set_option('display.float_format', lambda x: '%.1f' % x)\n",
    "from datetime import datetime, date\n",
    "import math\n",
    "import matplotlib\n",
    "import matplotlib.pyplot as plt\n",
    "from matplotlib import font_manager\n",
    "\n",
    "import geopandas\n",
    "import branca.colormap as cm\n",
    "from branca.element import Template, MacroElement\n",
    "import folium\n",
    "from folium import plugins"
   ]
  },
  {
   "cell_type": "code",
   "execution_count": null,
   "metadata": {},
   "outputs": [],
   "source": [
    "# mac os\n",
    "font_path = '/Library/Fonts/simhei.ttf'\n",
    "fontP = font_manager.FontProperties(fname=font_path)\n",
    "fontP.set_size(14)"
   ]
  },
  {
   "cell_type": "markdown",
   "metadata": {},
   "source": [
    "## Import datasets"
   ]
  },
  {
   "cell_type": "code",
   "execution_count": null,
   "metadata": {},
   "outputs": [],
   "source": [
    "tot_empl_province_df = pd.read_csv('datasets/按行业分城镇单位就业人员(万人)/城镇单位就业人员.csv',\n",
    "                                   header=3, encoding='gb2312')\n",
    "tot_empl_province_df = tot_empl_province_df[:31]\n",
    "tot_empl_province_df = tot_empl_province_df.fillna(0)"
   ]
  },
  {
   "cell_type": "code",
   "execution_count": null,
   "metadata": {},
   "outputs": [],
   "source": [
    "tot_salary_province_df = pd.read_csv('datasets/按行业分城镇单位就业人员平均工资(元)/城镇单位就业人员平均工资.csv',\n",
    "                                   header=3, encoding='gb2312')\n",
    "tot_salary_province_df = tot_salary_province_df[:31]\n",
    "tot_salary_province_df = tot_salary_province_df.fillna(0)"
   ]
  },
  {
   "cell_type": "code",
   "execution_count": null,
   "metadata": {},
   "outputs": [],
   "source": [
    "tot_chomageNb_province_df = pd.read_csv('datasets/城镇登记失业人数(万人).csv',\n",
    "                                   header=3, encoding='gb2312')\n",
    "tot_chomageNb_province_df = tot_chomageNb_province_df[:31]\n",
    "tot_chomageNb_province_df = tot_chomageNb_province_df.fillna(0)"
   ]
  },
  {
   "cell_type": "code",
   "execution_count": null,
   "metadata": {},
   "outputs": [],
   "source": [
    "tot_chomagePct_province_df = pd.read_csv('datasets/城镇登记失业率(%).csv',\n",
    "                                         header=3, encoding='gb2312')\n",
    "tot_chomagePct_province_df = tot_chomagePct_province_df[:31]\n",
    "tot_chomagePct_province_df = tot_chomagePct_province_df.fillna(0)"
   ]
  },
  {
   "cell_type": "code",
   "execution_count": null,
   "metadata": {},
   "outputs": [],
   "source": [
    "emplNb_province_df = pd.read_csv('datasets/empl_nb_final_per_province.csv')\n",
    "salary_province_df = pd.read_csv('datasets/salary_final_per_province.csv')"
   ]
  },
  {
   "cell_type": "code",
   "execution_count": null,
   "metadata": {},
   "outputs": [],
   "source": []
  },
  {
   "cell_type": "code",
   "execution_count": null,
   "metadata": {},
   "outputs": [],
   "source": []
  },
  {
   "cell_type": "code",
   "execution_count": null,
   "metadata": {},
   "outputs": [],
   "source": []
  },
  {
   "cell_type": "code",
   "execution_count": null,
   "metadata": {},
   "outputs": [],
   "source": []
  },
  {
   "cell_type": "code",
   "execution_count": null,
   "metadata": {},
   "outputs": [],
   "source": []
  },
  {
   "cell_type": "code",
   "execution_count": null,
   "metadata": {},
   "outputs": [],
   "source": []
  },
  {
   "cell_type": "code",
   "execution_count": null,
   "metadata": {},
   "outputs": [],
   "source": []
  },
  {
   "cell_type": "code",
   "execution_count": null,
   "metadata": {},
   "outputs": [],
   "source": []
  }
 ],
 "metadata": {
  "kernelspec": {
   "display_name": "_venv",
   "language": "python",
   "name": "_venv"
  },
  "language_info": {
   "codemirror_mode": {
    "name": "ipython",
    "version": 3
   },
   "file_extension": ".py",
   "mimetype": "text/x-python",
   "name": "python",
   "nbconvert_exporter": "python",
   "pygments_lexer": "ipython3",
   "version": "3.9.0"
  }
 },
 "nbformat": 4,
 "nbformat_minor": 4
}
