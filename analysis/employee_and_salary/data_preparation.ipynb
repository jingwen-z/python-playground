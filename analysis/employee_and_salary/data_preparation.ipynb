{
 "cells": [
  {
   "cell_type": "code",
   "execution_count": null,
   "metadata": {},
   "outputs": [],
   "source": [
    "import pandas as pd\n",
    "import numpy as np\n",
    "pd.set_option('display.max_columns', None)\n",
    "pd.set_option('display.max_rows', None)\n",
    "pd.set_option('display.float_format', lambda x: '%.1f' % x)\n",
    "from datetime import datetime, date\n",
    "import math\n",
    "import matplotlib\n",
    "import matplotlib.pyplot as plt\n",
    "from matplotlib import font_manager\n",
    "\n",
    "import geopandas\n",
    "import branca.colormap as cm\n",
    "from branca.element import Template, MacroElement\n",
    "import folium\n",
    "from folium import plugins"
   ]
  },
  {
   "cell_type": "code",
   "execution_count": null,
   "metadata": {},
   "outputs": [],
   "source": [
    "# mac os\n",
    "font_path = '/Library/Fonts/simhei.ttf'\n",
    "fontP = font_manager.FontProperties(fname=font_path)\n",
    "fontP.set_size(14)"
   ]
  },
  {
   "cell_type": "markdown",
   "metadata": {},
   "source": [
    "## Employee number: append df per province into one df"
   ]
  },
  {
   "cell_type": "code",
   "execution_count": null,
   "metadata": {},
   "outputs": [],
   "source": [
    "emplNb_domain_list = ['交通运输、仓储和邮政业',\n",
    "                      '住宿和餐饮业',\n",
    "                      '信息技术服务业',\n",
    "                      '公共管理、社会保障和社会组织',\n",
    "                      '农林牧渔业',\n",
    "                      '制造业',\n",
    "                      '卫生和社会工作',\n",
    "                      '居民服务、修理和其他服务业',\n",
    "                      '建筑业',\n",
    "                      '房地产业',\n",
    "                      '批发和零售业',\n",
    "                      '教育业',\n",
    "                      '文化、体育和娱乐业',\n",
    "                      '水利、环境和公共设施管理业',\n",
    "                      '电力、热力、燃气及水生产和供应业',\n",
    "                      '科学研究和技术服务业',\n",
    "                      '租赁和商务服务业',\n",
    "                      '采矿业',\n",
    "                      '金融业']"
   ]
  },
  {
   "cell_type": "code",
   "execution_count": null,
   "metadata": {},
   "outputs": [],
   "source": [
    "empl_nb_final_df = pd.DataFrame(columns=[\n",
    "    '地区', '行业', '2020年', '2019年', '2018年', '2017年', '2016年', '2015年',\n",
    "    '2014年', '2013年', '2012年', '2011年', '2010年', '2009年', '2008年',\n",
    "    '2007年', '2006年', '2005年', '2004年', '2003年', '2002年', '2001年'])"
   ]
  },
  {
   "cell_type": "code",
   "execution_count": null,
   "metadata": {
    "scrolled": true
   },
   "outputs": [],
   "source": [
    "for counter, value in enumerate(emplNb_domain_list):\n",
    "    df = pd.read_csv('datasets/按行业分城镇单位就业人员(万人)/%s城镇单位就业人员.csv' % value,\n",
    "                     header=3, encoding='gb2312')\n",
    "    df = df[:31]\n",
    "    df.insert(loc=1, column='行业',\n",
    "              value=value, allow_duplicates=True)\n",
    "    \n",
    "    empl_nb_final_df = empl_nb_final_df.append(df)\n",
    "    empl_nb_final_df = empl_nb_final_df.reset_index(drop=True)\n"
   ]
  },
  {
   "cell_type": "code",
   "execution_count": null,
   "metadata": {},
   "outputs": [],
   "source": [
    "empl_nb_final_df = empl_nb_final_df.fillna(0)"
   ]
  },
  {
   "cell_type": "code",
   "execution_count": null,
   "metadata": {},
   "outputs": [],
   "source": [
    "# empl_nb_final_df.to_csv('datasets/empl_nb_final_per_province.csv', index=False)"
   ]
  },
  {
   "cell_type": "markdown",
   "metadata": {},
   "source": [
    "## Salary: append df per province into one df"
   ]
  },
  {
   "cell_type": "code",
   "execution_count": null,
   "metadata": {},
   "outputs": [],
   "source": [
    "salary_domain_list = ['交通运输、仓储和邮政业',\n",
    "                      '住宿和餐饮业',\n",
    "                      '信息技术服务业',\n",
    "                      '公共管理和社会组织',\n",
    "                      '农林牧渔业',\n",
    "                      '制造业',\n",
    "                      '卫生、社会保障和社会福利业',\n",
    "                      '居民服务和其他服务业',\n",
    "                      '建筑业',\n",
    "                      '房地产业',\n",
    "                      '批发和零售业',\n",
    "                      '教育业',\n",
    "                      '文化、体育和娱乐业',\n",
    "                      '水利、环境和公共设施管理业',\n",
    "                      '电力、热力、燃气及水生产和供应业',\n",
    "                      '科学研究、技术服务和地质勘查业',\n",
    "                      '租赁和商务服务业',\n",
    "                      '采矿业',\n",
    "                      '金融业']"
   ]
  },
  {
   "cell_type": "code",
   "execution_count": null,
   "metadata": {},
   "outputs": [],
   "source": [
    "salary_final_df = pd.DataFrame(columns=[\n",
    "    '地区', '行业', '2020年', '2019年', '2018年', '2017年', '2016年', '2015年',\n",
    "    '2014年', '2013年', '2012年', '2011年', '2010年', '2009年', '2008年',\n",
    "    '2007年', '2006年', '2005年', '2004年', '2003年', '2002年', '2001年'])"
   ]
  },
  {
   "cell_type": "code",
   "execution_count": null,
   "metadata": {
    "scrolled": true
   },
   "outputs": [],
   "source": [
    "for counter, value in enumerate(salary_domain_list):\n",
    "    print(value)\n",
    "    df = pd.read_csv('datasets/按行业分城镇单位就业人员平均工资(元)/%s城镇单位就业人员平均工资.csv' % value,\n",
    "                     header=3, encoding='gb2312')\n",
    "    df = df[:31]\n",
    "    df.insert(loc=1, column='行业',\n",
    "              value=value, allow_duplicates=True)\n",
    "    \n",
    "    salary_final_df = salary_final_df.append(df)\n",
    "    salary_final_df = salary_final_df.reset_index(drop=True)\n",
    "\n"
   ]
  },
  {
   "cell_type": "code",
   "execution_count": null,
   "metadata": {},
   "outputs": [],
   "source": [
    "# salary_final_df.to_csv('datasets/salary_final_per_province.csv', index=False)"
   ]
  },
  {
   "cell_type": "code",
   "execution_count": null,
   "metadata": {},
   "outputs": [],
   "source": []
  },
  {
   "cell_type": "code",
   "execution_count": null,
   "metadata": {},
   "outputs": [],
   "source": []
  }
 ],
 "metadata": {
  "kernelspec": {
   "display_name": "_venv",
   "language": "python",
   "name": "_venv"
  },
  "language_info": {
   "codemirror_mode": {
    "name": "ipython",
    "version": 3
   },
   "file_extension": ".py",
   "mimetype": "text/x-python",
   "name": "python",
   "nbconvert_exporter": "python",
   "pygments_lexer": "ipython3",
   "version": "3.9.0"
  }
 },
 "nbformat": 4,
 "nbformat_minor": 4
}
