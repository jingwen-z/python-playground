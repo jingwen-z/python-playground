{
 "cells": [
  {
   "cell_type": "code",
   "execution_count": 1,
   "metadata": {},
   "outputs": [],
   "source": [
    "import pandas as pd\n",
    "\n",
    "import pyspark\n",
    "from pyspark.sql import SparkSession\n",
    "from pyspark.sql import functions as F\n",
    "\n",
    "sc = pyspark.SparkContext('local[*]')\n",
    "spark_session = SparkSession.builder.getOrCreate()"
   ]
  },
  {
   "cell_type": "code",
   "execution_count": 2,
   "metadata": {},
   "outputs": [
    {
     "data": {
      "text/html": [
       "\n",
       "            <div>\n",
       "                <p><b>SparkSession - in-memory</b></p>\n",
       "                \n",
       "        <div>\n",
       "            <p><b>SparkContext</b></p>\n",
       "\n",
       "            <p><a href=\"http://2864ba9e74af:4040\">Spark UI</a></p>\n",
       "\n",
       "            <dl>\n",
       "              <dt>Version</dt>\n",
       "                <dd><code>v2.4.5</code></dd>\n",
       "              <dt>Master</dt>\n",
       "                <dd><code>local[*]</code></dd>\n",
       "              <dt>AppName</dt>\n",
       "                <dd><code>pyspark-shell</code></dd>\n",
       "            </dl>\n",
       "        </div>\n",
       "        \n",
       "            </div>\n",
       "        "
      ],
      "text/plain": [
       "<pyspark.sql.session.SparkSession at 0x7f12d5af4c10>"
      ]
     },
     "execution_count": 2,
     "metadata": {},
     "output_type": "execute_result"
    }
   ],
   "source": [
    "spark_session"
   ]
  },
  {
   "cell_type": "code",
   "execution_count": 3,
   "metadata": {},
   "outputs": [
    {
     "data": {
      "text/plain": [
       "[]"
      ]
     },
     "execution_count": 3,
     "metadata": {},
     "output_type": "execute_result"
    }
   ],
   "source": [
    "spark_session.catalog.listTables()"
   ]
  },
  {
   "cell_type": "code",
   "execution_count": 4,
   "metadata": {},
   "outputs": [],
   "source": [
    "pop19_df = pd.read_csv('population_2019.csv')\n",
    "gdp19_df = pd.DataFrame({'country':['China', 'India', 'US', 'Indonesia', 'Pakistan',\n",
    "                                    'Brazil', 'Nigeria', 'Bangladesh', 'Russia'],\n",
    "                         'continent':['Asia', 'Asia', 'North America', 'Asia', 'Asia',\n",
    "                                    'South America', 'Africa', 'Asia', 'Europe']},\n",
    "                        columns=['country', 'continent'])"
   ]
  },
  {
   "cell_type": "code",
   "execution_count": 5,
   "metadata": {},
   "outputs": [
    {
     "data": {
      "text/html": [
       "<div>\n",
       "<style scoped>\n",
       "    .dataframe tbody tr th:only-of-type {\n",
       "        vertical-align: middle;\n",
       "    }\n",
       "\n",
       "    .dataframe tbody tr th {\n",
       "        vertical-align: top;\n",
       "    }\n",
       "\n",
       "    .dataframe thead th {\n",
       "        text-align: right;\n",
       "    }\n",
       "</style>\n",
       "<table border=\"1\" class=\"dataframe\">\n",
       "  <thead>\n",
       "    <tr style=\"text-align: right;\">\n",
       "      <th></th>\n",
       "      <th>Rank</th>\n",
       "      <th>name</th>\n",
       "      <th>pop2019(k)</th>\n",
       "      <th>pop2018</th>\n",
       "      <th>GrowthRate</th>\n",
       "      <th>area</th>\n",
       "      <th>Density</th>\n",
       "    </tr>\n",
       "  </thead>\n",
       "  <tbody>\n",
       "    <tr>\n",
       "      <th>0</th>\n",
       "      <td>1</td>\n",
       "      <td>China</td>\n",
       "      <td>1433783.686</td>\n",
       "      <td>NaN</td>\n",
       "      <td>1.0039</td>\n",
       "      <td>9706961.0</td>\n",
       "      <td>147.7068</td>\n",
       "    </tr>\n",
       "    <tr>\n",
       "      <th>1</th>\n",
       "      <td>2</td>\n",
       "      <td>India</td>\n",
       "      <td>1366417.754</td>\n",
       "      <td>NaN</td>\n",
       "      <td>1.0099</td>\n",
       "      <td>3287590.0</td>\n",
       "      <td>415.6290</td>\n",
       "    </tr>\n",
       "    <tr>\n",
       "      <th>2</th>\n",
       "      <td>3</td>\n",
       "      <td>US</td>\n",
       "      <td>329064.917</td>\n",
       "      <td>NaN</td>\n",
       "      <td>1.0059</td>\n",
       "      <td>9372610.0</td>\n",
       "      <td>35.1092</td>\n",
       "    </tr>\n",
       "  </tbody>\n",
       "</table>\n",
       "</div>"
      ],
      "text/plain": [
       "   Rank   name   pop2019(k)  pop2018  GrowthRate       area   Density\n",
       "0     1  China  1433783.686      NaN      1.0039  9706961.0  147.7068\n",
       "1     2  India  1366417.754      NaN      1.0099  3287590.0  415.6290\n",
       "2     3     US   329064.917      NaN      1.0059  9372610.0   35.1092"
      ]
     },
     "execution_count": 5,
     "metadata": {},
     "output_type": "execute_result"
    }
   ],
   "source": [
    "pop19_df.head(3)"
   ]
  },
  {
   "cell_type": "code",
   "execution_count": 6,
   "metadata": {},
   "outputs": [
    {
     "data": {
      "text/html": [
       "<div>\n",
       "<style scoped>\n",
       "    .dataframe tbody tr th:only-of-type {\n",
       "        vertical-align: middle;\n",
       "    }\n",
       "\n",
       "    .dataframe tbody tr th {\n",
       "        vertical-align: top;\n",
       "    }\n",
       "\n",
       "    .dataframe thead th {\n",
       "        text-align: right;\n",
       "    }\n",
       "</style>\n",
       "<table border=\"1\" class=\"dataframe\">\n",
       "  <thead>\n",
       "    <tr style=\"text-align: right;\">\n",
       "      <th></th>\n",
       "      <th>country</th>\n",
       "      <th>continent</th>\n",
       "    </tr>\n",
       "  </thead>\n",
       "  <tbody>\n",
       "    <tr>\n",
       "      <th>0</th>\n",
       "      <td>China</td>\n",
       "      <td>Asia</td>\n",
       "    </tr>\n",
       "    <tr>\n",
       "      <th>1</th>\n",
       "      <td>India</td>\n",
       "      <td>Asia</td>\n",
       "    </tr>\n",
       "    <tr>\n",
       "      <th>2</th>\n",
       "      <td>US</td>\n",
       "      <td>North America</td>\n",
       "    </tr>\n",
       "  </tbody>\n",
       "</table>\n",
       "</div>"
      ],
      "text/plain": [
       "  country      continent\n",
       "0   China           Asia\n",
       "1   India           Asia\n",
       "2      US  North America"
      ]
     },
     "execution_count": 6,
     "metadata": {},
     "output_type": "execute_result"
    }
   ],
   "source": [
    "gdp19_df.head(3)"
   ]
  },
  {
   "cell_type": "code",
   "execution_count": 7,
   "metadata": {},
   "outputs": [],
   "source": [
    "spark_temp_pop19 = spark_session.createDataFrame(pop19_df)\n",
    "spark_temp_pop19.createOrReplaceTempView('pop19')\n",
    "\n",
    "spark_temp_gdp19 = spark_session.createDataFrame(gdp19_df)\n",
    "spark_temp_gdp19.createOrReplaceTempView('gdp19')"
   ]
  },
  {
   "cell_type": "code",
   "execution_count": 8,
   "metadata": {},
   "outputs": [
    {
     "data": {
      "text/plain": [
       "[Table(name='gdp19', database=None, description=None, tableType='TEMPORARY', isTemporary=True),\n",
       " Table(name='pop19', database=None, description=None, tableType='TEMPORARY', isTemporary=True)]"
      ]
     },
     "execution_count": 8,
     "metadata": {},
     "output_type": "execute_result"
    }
   ],
   "source": [
    "spark_session.catalog.listTables()"
   ]
  },
  {
   "cell_type": "code",
   "execution_count": 9,
   "metadata": {},
   "outputs": [],
   "source": [
    "pop19_sp = spark_session.sql('SELECT * FROM pop19')\n",
    "gdp19_sp = spark_session.sql('SELECT * FROM gdp19')"
   ]
  },
  {
   "cell_type": "markdown",
   "metadata": {},
   "source": [
    "## pyspark vs. pandas"
   ]
  },
  {
   "cell_type": "markdown",
   "metadata": {},
   "source": [
    "### Check dataframe size"
   ]
  },
  {
   "cell_type": "code",
   "execution_count": 10,
   "metadata": {},
   "outputs": [
    {
     "name": "stdout",
     "output_type": "stream",
     "text": [
      "CPU times: user 10 µs, sys: 2 µs, total: 12 µs\n",
      "Wall time: 37.4 µs\n",
      "pop19_sp row number: 237\n",
      "pop19_sp size: (237, 7)\n"
     ]
    }
   ],
   "source": [
    "%time\n",
    "# pyspark\n",
    "print('pop19_sp row number: %d' % pop19_sp.count())\n",
    "print('pop19_sp size: (%d, %d)' % (pop19_sp.count(), len(pop19_sp.columns)))"
   ]
  },
  {
   "cell_type": "code",
   "execution_count": 11,
   "metadata": {},
   "outputs": [
    {
     "name": "stdout",
     "output_type": "stream",
     "text": [
      "CPU times: user 6 µs, sys: 0 ns, total: 6 µs\n",
      "Wall time: 23.8 µs\n",
      "pop19_df row number: 237\n",
      "pop19_df size: (237, 7)\n"
     ]
    }
   ],
   "source": [
    "%time\n",
    "# pandas\n",
    "print('pop19_df row number: ' + str(len(pop19_df)))\n",
    "print('pop19_df size: ' + str(pop19_df.shape))"
   ]
  },
  {
   "cell_type": "markdown",
   "metadata": {},
   "source": [
    "### Check unique values of a column"
   ]
  },
  {
   "cell_type": "code",
   "execution_count": 12,
   "metadata": {},
   "outputs": [
    {
     "name": "stdout",
     "output_type": "stream",
     "text": [
      "CPU times: user 5 µs, sys: 1 µs, total: 6 µs\n",
      "Wall time: 22.9 µs\n",
      "+--------------------+\n",
      "|                name|\n",
      "+--------------------+\n",
      "|                Chad|\n",
      "|              Russia|\n",
      "|            Paraguay|\n",
      "|            Anguilla|\n",
      "|       North Ireland|\n",
      "|               Yemen|\n",
      "|             Senegal|\n",
      "|              Sweden|\n",
      "|             Tokelau|\n",
      "|            Kiribati|\n",
      "|              Guyana|\n",
      "|         Philippines|\n",
      "|             Eritrea|\n",
      "|            Djibouti|\n",
      "|               Tonga|\n",
      "|            Malaysia|\n",
      "|           Singapore|\n",
      "|                Fiji|\n",
      "|              Turkey|\n",
      "|United States Vir...|\n",
      "|              Malawi|\n",
      "|      Western Sahara|\n",
      "|                Iraq|\n",
      "|             Germany|\n",
      "|Northern Mariana ...|\n",
      "|             Comoros|\n",
      "|         Afghanistan|\n",
      "|            Cambodia|\n",
      "|              Rwanda|\n",
      "|              Jordan|\n",
      "|            Maldives|\n",
      "|               Sudan|\n",
      "|               Palau|\n",
      "|              France|\n",
      "|Turks and Caicos ...|\n",
      "|              Greece|\n",
      "|           Sri Lanka|\n",
      "|          Montserrat|\n",
      "|              Taiwan|\n",
      "|            Dominica|\n",
      "|British Virgin Is...|\n",
      "|             Algeria|\n",
      "|                Togo|\n",
      "|   Equatorial Guinea|\n",
      "|            Slovakia|\n",
      "|             Reunion|\n",
      "|               Macau|\n",
      "|           Argentina|\n",
      "|Diamond Princess ...|\n",
      "|              Angola|\n",
      "|             Belgium|\n",
      "|          San Marino|\n",
      "|             Ecuador|\n",
      "|               Qatar|\n",
      "|             Lesotho|\n",
      "|          Madagascar|\n",
      "|             Albania|\n",
      "|             Finland|\n",
      "|       New Caledonia|\n",
      "|             Myanmar|\n",
      "|               Ghana|\n",
      "|           Nicaragua|\n",
      "|                Peru|\n",
      "|               Benin|\n",
      "|        Sierra Leone|\n",
      "|               China|\n",
      "|               India|\n",
      "|             Bahamas|\n",
      "|             Curacao|\n",
      "|             Belarus|\n",
      "|              Kuwait|\n",
      "|         Timor-Leste|\n",
      "|               Malta|\n",
      "|      American Samoa|\n",
      "|Sao Tome and Prin...|\n",
      "|             Somalia|\n",
      "|    Marshall Islands|\n",
      "|              Tuvalu|\n",
      "|               Chile|\n",
      "|          Tajikistan|\n",
      "|         Puerto Rico|\n",
      "|          Martinique|\n",
      "|      Cayman Islands|\n",
      "|         Isle of Man|\n",
      "|             Croatia|\n",
      "|             Burundi|\n",
      "|             Nigeria|\n",
      "|             Bolivia|\n",
      "|             Andorra|\n",
      "|               Gabon|\n",
      "|               Italy|\n",
      "|            Suriname|\n",
      "|           Lithuania|\n",
      "|        Turkmenistan|\n",
      "|              Norway|\n",
      "|               Spain|\n",
      "|Saint Pierre and ...|\n",
      "|                Cuba|\n",
      "|          Mauritania|\n",
      "|          Guadeloupe|\n",
      "|               Niger|\n",
      "|             Denmark|\n",
      "|Central African R...|\n",
      "|          Bangladesh|\n",
      "|            Barbados|\n",
      "|                  US|\n",
      "|                Iran|\n",
      "|             Ireland|\n",
      "|       Liechtenstein|\n",
      "|            Thailand|\n",
      "|                Laos|\n",
      "|           Swaziland|\n",
      "|Democratic Republ...|\n",
      "|              Bhutan|\n",
      "|             Morocco|\n",
      "|              Monaco|\n",
      "|              Panama|\n",
      "|          Cape Verde|\n",
      "|           Hong Kong|\n",
      "|               Nauru|\n",
      "|             Ukraine|\n",
      "|           Venezuela|\n",
      "|              Israel|\n",
      "|             Iceland|\n",
      "|    Saint Barthelemy|\n",
      "|     Channel Islands|\n",
      "|            Holy See|\n",
      "|Saint Kitts and N...|\n",
      "|                Oman|\n",
      "|    French Polynesia|\n",
      "|         North Korea|\n",
      "|         South Korea|\n",
      "|           Palestine|\n",
      "|              Cyprus|\n",
      "|           Gibraltar|\n",
      "|             Uruguay|\n",
      "|              Mexico|\n",
      "|       Cote d'Ivoire|\n",
      "|               Aruba|\n",
      "|            Zimbabwe|\n",
      "|             Georgia|\n",
      "|             Estonia|\n",
      "|          Montenegro|\n",
      "|           Indonesia|\n",
      "|Saint Vincent and...|\n",
      "|           Guatemala|\n",
      "|            Mongolia|\n",
      "|                Guam|\n",
      "|Republic of the C...|\n",
      "|          Azerbaijan|\n",
      "|               Libya|\n",
      "|             Grenada|\n",
      "|        Sint Maarten|\n",
      "|             Armenia|\n",
      "|             Tunisia|\n",
      "|             Liberia|\n",
      "|               Syria|\n",
      "|            Honduras|\n",
      "|                  UK|\n",
      "| Trinidad and Tobago|\n",
      "|        Saudi Arabia|\n",
      "|              Uganda|\n",
      "|   Wallis and Futuna|\n",
      "|       French Guiana|\n",
      "|             Namibia|\n",
      "|             Mayotte|\n",
      "|         Switzerland|\n",
      "|              Zambia|\n",
      "|            Ethiopia|\n",
      "|             Jamaica|\n",
      "|              Latvia|\n",
      "|         South Sudan|\n",
      "|United Arab Emirates|\n",
      "|              Brunei|\n",
      "|         Saint Lucia|\n",
      "|              Guinea|\n",
      "|              Canada|\n",
      "|          Seychelles|\n",
      "|          Uzbekistan|\n",
      "|          Kyrgyzstan|\n",
      "|     North Macedonia|\n",
      "|               Samoa|\n",
      "|       Faroe Islands|\n",
      "|          Mozambique|\n",
      "|      Czech Republic|\n",
      "|        Cook Islands|\n",
      "|              Brazil|\n",
      "|              Belize|\n",
      "|               Kenya|\n",
      "|              Gambia|\n",
      "|             Lebanon|\n",
      "|            Slovenia|\n",
      "| Antigua and Barbuda|\n",
      "|  Dominican Republic|\n",
      "|               Japan|\n",
      "|            Tanzania|\n",
      "|            Botswana|\n",
      "|          Luxembourg|\n",
      "|    Falkland Islands|\n",
      "|         New Zealand|\n",
      "|Bosnia and Herzeg...|\n",
      "|           Greenland|\n",
      "|               Haiti|\n",
      "|              Poland|\n",
      "|            Portugal|\n",
      "|            Cameroon|\n",
      "|           Australia|\n",
      "|    Papua New Guinea|\n",
      "|             Romania|\n",
      "|       Guinea-Bissau|\n",
      "|            Bulgaria|\n",
      "|     Solomon Islands|\n",
      "|               Nepal|\n",
      "|             Austria|\n",
      "|               Egypt|\n",
      "|          Kazakhstan|\n",
      "|         El Salvador|\n",
      "|          Costa Rica|\n",
      "|              Serbia|\n",
      "|        South Africa|\n",
      "|        Burkina Faso|\n",
      "|    Saint Barthélemy|\n",
      "|             Bermuda|\n",
      "|             Bahrain|\n",
      "|          Micronesia|\n",
      "|            Colombia|\n",
      "|             Hungary|\n",
      "|            Pakistan|\n",
      "|             Vanuatu|\n",
      "|        Vatican City|\n",
      "|                Niue|\n",
      "|           Mauritius|\n",
      "|           St Martin|\n",
      "|             Moldova|\n",
      "|             Vietnam|\n",
      "|                Mali|\n",
      "|         Netherlands|\n",
      "+--------------------+\n",
      "\n"
     ]
    }
   ],
   "source": [
    "%time\n",
    "# pyspark\n",
    "pop19_sp.select('name').distinct().show(pop19_sp.count())"
   ]
  },
  {
   "cell_type": "code",
   "execution_count": 13,
   "metadata": {},
   "outputs": [
    {
     "name": "stdout",
     "output_type": "stream",
     "text": [
      "CPU times: user 8 µs, sys: 3 µs, total: 11 µs\n",
      "Wall time: 6.64 ms\n"
     ]
    },
    {
     "data": {
      "text/plain": [
       "array(['China', 'India', 'US', 'Indonesia', 'Pakistan', 'Brazil',\n",
       "       'Nigeria', 'Bangladesh', 'Russia', 'Mexico', 'Japan', 'Ethiopia',\n",
       "       'Philippines', 'Egypt', 'Vietnam',\n",
       "       'Democratic Republic of the Congo', 'Germany', 'Turkey', 'Iran',\n",
       "       'Thailand', 'UK', 'France', 'Italy', 'South Africa', 'Tanzania',\n",
       "       'Myanmar', 'Kenya', 'South Korea', 'Colombia', 'Spain',\n",
       "       'Argentina', 'Uganda', 'Ukraine', 'Algeria', 'Sudan', 'Iraq',\n",
       "       'Afghanistan', 'Poland', 'Canada', 'Morocco', 'Saudi Arabia',\n",
       "       'Uzbekistan', 'Peru', 'Malaysia', 'Angola', 'Ghana', 'Mozambique',\n",
       "       'Yemen', 'Nepal', 'Venezuela', 'Madagascar', 'Cameroon',\n",
       "       \"Cote d'Ivoire\", 'North Korea', 'Australia', 'Taiwan', 'Niger',\n",
       "       'Sri Lanka', 'Burkina Faso', 'Mali', 'Romania', 'Chile', 'Malawi',\n",
       "       'Kazakhstan', 'Zambia', 'Guatemala', 'Ecuador', 'Netherlands',\n",
       "       'Syria', 'Cambodia', 'Senegal', 'Chad', 'Somalia', 'Zimbabwe',\n",
       "       'Guinea', 'Rwanda', 'Benin', 'Tunisia', 'Belgium', 'Burundi',\n",
       "       'Bolivia', 'Cuba', 'Haiti', 'South Sudan', 'Dominican Republic',\n",
       "       'Czech Republic', 'Greece', 'Portugal', 'Jordan', 'Azerbaijan',\n",
       "       'Sweden', 'United Arab Emirates', 'Honduras', 'Hungary', 'Belarus',\n",
       "       'Tajikistan', 'Austria', 'Papua New Guinea', 'Serbia',\n",
       "       'Switzerland', 'Israel', 'Togo', 'Sierra Leone', 'Hong Kong',\n",
       "       'Laos', 'Paraguay', 'Bulgaria', 'Lebanon', 'Libya', 'Nicaragua',\n",
       "       'El Salvador', 'Kyrgyzstan', 'Turkmenistan', 'Singapore',\n",
       "       'Denmark', 'Finland', 'Slovakia', 'Republic of the Congo',\n",
       "       'Norway', 'Costa Rica', 'Palestine', 'Oman', 'Liberia', 'Ireland',\n",
       "       'New Zealand', 'Central African Republic', 'Mauritania', 'Panama',\n",
       "       'Kuwait', 'Croatia', 'Moldova', 'Georgia', 'Eritrea', 'Uruguay',\n",
       "       'Bosnia and Herzegovina', 'Mongolia', 'Armenia', 'Jamaica',\n",
       "       'Puerto Rico', 'Albania', 'Qatar', 'Lithuania', 'Namibia',\n",
       "       'Gambia', 'Botswana', 'Gabon', 'Lesotho', 'North Macedonia',\n",
       "       'Slovenia', 'Guinea-Bissau', 'Latvia', 'Bahrain',\n",
       "       'Trinidad and Tobago', 'Equatorial Guinea', 'Estonia',\n",
       "       'Timor-Leste', 'Mauritius', 'Cyprus', 'Swaziland', 'Djibouti',\n",
       "       'Fiji', 'Reunion', 'Comoros', 'Guyana', 'Bhutan',\n",
       "       'Solomon Islands', 'Macau', 'Montenegro', 'Luxembourg',\n",
       "       'Western Sahara', 'Suriname', 'Cape Verde', 'Maldives', 'Malta',\n",
       "       'Brunei', 'Guadeloupe', 'Belize', 'Bahamas', 'Martinique',\n",
       "       'Iceland', 'Vanuatu', 'French Guiana', 'Barbados', 'New Caledonia',\n",
       "       'French Polynesia', 'Mayotte', 'Sao Tome and Principe', 'Samoa',\n",
       "       'Saint Lucia', 'Guam', 'Curacao', 'Kiribati', 'Micronesia',\n",
       "       'Grenada', 'Saint Vincent and the Grenadines', 'Aruba',\n",
       "       'United States Virgin Islands', 'Tonga', 'Seychelles',\n",
       "       'Antigua and Barbuda', 'Isle of Man', 'Andorra', 'Dominica',\n",
       "       'Cayman Islands', 'Bermuda', 'Marshall Islands',\n",
       "       'Northern Mariana Islands', 'Greenland', 'American Samoa',\n",
       "       'Saint Kitts and Nevis', 'Faroe Islands', 'Sint Maarten', 'Monaco',\n",
       "       'Turks and Caicos Islands', 'Liechtenstein', 'St Martin',\n",
       "       'San Marino', 'Gibraltar', 'British Virgin Islands', 'Palau',\n",
       "       'Cook Islands', 'Anguilla', 'Tuvalu', 'Wallis and Futuna', 'Nauru',\n",
       "       'Saint Barthélemy', 'Saint Pierre and Miquelon', 'Montserrat',\n",
       "       'Falkland Islands', 'Niue', 'Tokelau', 'Vatican City',\n",
       "       'North Ireland', 'Diamond Princess cruise ship',\n",
       "       'Saint Barthelemy', 'Channel Islands', 'Holy See'], dtype=object)"
      ]
     },
     "execution_count": 13,
     "metadata": {},
     "output_type": "execute_result"
    }
   ],
   "source": [
    "%time\n",
    "# pandas\n",
    "pop19_df['name'].unique()"
   ]
  },
  {
   "cell_type": "markdown",
   "metadata": {},
   "source": [
    "### Creating a new column"
   ]
  },
  {
   "cell_type": "code",
   "execution_count": 14,
   "metadata": {},
   "outputs": [
    {
     "name": "stdout",
     "output_type": "stream",
     "text": [
      "CPU times: user 204 µs, sys: 58 µs, total: 262 µs\n",
      "Wall time: 295 µs\n"
     ]
    }
   ],
   "source": [
    "%time\n",
    "# pyspark\n",
    "pop19_sp = pop19_sp.withColumn('pop2018', pop19_sp['pop2019(k)'] / pop19_sp['GrowthRate'])"
   ]
  },
  {
   "cell_type": "code",
   "execution_count": 15,
   "metadata": {},
   "outputs": [
    {
     "name": "stdout",
     "output_type": "stream",
     "text": [
      "CPU times: user 8 µs, sys: 2 µs, total: 10 µs\n",
      "Wall time: 587 µs\n"
     ]
    }
   ],
   "source": [
    "%time\n",
    "# pandas\n",
    "pop19_df.loc[:, 'pop2018'] = pop19_df['pop2019(k)'] / pop19_df['GrowthRate']"
   ]
  },
  {
   "cell_type": "markdown",
   "metadata": {},
   "source": [
    "### Filtering"
   ]
  },
  {
   "cell_type": "code",
   "execution_count": 16,
   "metadata": {},
   "outputs": [
    {
     "name": "stdout",
     "output_type": "stream",
     "text": [
      "CPU times: user 4 µs, sys: 1e+03 ns, total: 5 µs\n",
      "Wall time: 23.8 µs\n",
      "+----+----------+-----------+------------------+----------+-----------+---------+\n",
      "|Rank|      name| pop2019(k)|           pop2018|GrowthRate|       area|  Density|\n",
      "+----+----------+-----------+------------------+----------+-----------+---------+\n",
      "|   1|     China|1433783.686|1428213.6527542584|    1.0039|  9706961.0| 147.7068|\n",
      "|   2|     India|1366417.754|1353022.8280027725|    1.0099|  3287590.0|  415.629|\n",
      "|   3|        US| 329064.917|327134.82155283826|    1.0059|  9372610.0|  35.1092|\n",
      "|   4| Indonesia| 270625.568|  267760.530325517|    1.0107|  1904569.0| 142.0928|\n",
      "|   5|  Pakistan| 216565.318|212318.93921568626|      1.02|   881912.0| 245.5634|\n",
      "|   6|    Brazil| 211049.527|209540.83300238283|    1.0072|  8515767.0|  24.7834|\n",
      "|   7|   Nigeria| 200963.599|195909.14310781826|    1.0258|   923768.0| 217.5477|\n",
      "|   8|Bangladesh| 163046.161| 161415.8608058608|    1.0101|   147570.0|1104.8734|\n",
      "|   9|    Russia| 145872.256|145813.93042782886|    1.0004|1.7098242E7|   8.5314|\n",
      "+----+----------+-----------+------------------+----------+-----------+---------+\n",
      "\n"
     ]
    }
   ],
   "source": [
    "%time\n",
    "# pyspark\n",
    "pop19_sp.filter(pop19_sp['Rank'] < 10).show()"
   ]
  },
  {
   "cell_type": "code",
   "execution_count": 17,
   "metadata": {},
   "outputs": [
    {
     "name": "stdout",
     "output_type": "stream",
     "text": [
      "CPU times: user 10 µs, sys: 0 ns, total: 10 µs\n",
      "Wall time: 28.4 µs\n"
     ]
    },
    {
     "data": {
      "text/html": [
       "<div>\n",
       "<style scoped>\n",
       "    .dataframe tbody tr th:only-of-type {\n",
       "        vertical-align: middle;\n",
       "    }\n",
       "\n",
       "    .dataframe tbody tr th {\n",
       "        vertical-align: top;\n",
       "    }\n",
       "\n",
       "    .dataframe thead th {\n",
       "        text-align: right;\n",
       "    }\n",
       "</style>\n",
       "<table border=\"1\" class=\"dataframe\">\n",
       "  <thead>\n",
       "    <tr style=\"text-align: right;\">\n",
       "      <th></th>\n",
       "      <th>Rank</th>\n",
       "      <th>name</th>\n",
       "      <th>pop2019(k)</th>\n",
       "      <th>pop2018</th>\n",
       "      <th>GrowthRate</th>\n",
       "      <th>area</th>\n",
       "      <th>Density</th>\n",
       "    </tr>\n",
       "  </thead>\n",
       "  <tbody>\n",
       "    <tr>\n",
       "      <th>0</th>\n",
       "      <td>1</td>\n",
       "      <td>China</td>\n",
       "      <td>1433783.686</td>\n",
       "      <td>1.428214e+06</td>\n",
       "      <td>1.0039</td>\n",
       "      <td>9706961.0</td>\n",
       "      <td>147.7068</td>\n",
       "    </tr>\n",
       "    <tr>\n",
       "      <th>1</th>\n",
       "      <td>2</td>\n",
       "      <td>India</td>\n",
       "      <td>1366417.754</td>\n",
       "      <td>1.353023e+06</td>\n",
       "      <td>1.0099</td>\n",
       "      <td>3287590.0</td>\n",
       "      <td>415.6290</td>\n",
       "    </tr>\n",
       "    <tr>\n",
       "      <th>2</th>\n",
       "      <td>3</td>\n",
       "      <td>US</td>\n",
       "      <td>329064.917</td>\n",
       "      <td>3.271348e+05</td>\n",
       "      <td>1.0059</td>\n",
       "      <td>9372610.0</td>\n",
       "      <td>35.1092</td>\n",
       "    </tr>\n",
       "    <tr>\n",
       "      <th>3</th>\n",
       "      <td>4</td>\n",
       "      <td>Indonesia</td>\n",
       "      <td>270625.568</td>\n",
       "      <td>2.677605e+05</td>\n",
       "      <td>1.0107</td>\n",
       "      <td>1904569.0</td>\n",
       "      <td>142.0928</td>\n",
       "    </tr>\n",
       "    <tr>\n",
       "      <th>4</th>\n",
       "      <td>5</td>\n",
       "      <td>Pakistan</td>\n",
       "      <td>216565.318</td>\n",
       "      <td>2.123189e+05</td>\n",
       "      <td>1.0200</td>\n",
       "      <td>881912.0</td>\n",
       "      <td>245.5634</td>\n",
       "    </tr>\n",
       "    <tr>\n",
       "      <th>5</th>\n",
       "      <td>6</td>\n",
       "      <td>Brazil</td>\n",
       "      <td>211049.527</td>\n",
       "      <td>2.095408e+05</td>\n",
       "      <td>1.0072</td>\n",
       "      <td>8515767.0</td>\n",
       "      <td>24.7834</td>\n",
       "    </tr>\n",
       "    <tr>\n",
       "      <th>6</th>\n",
       "      <td>7</td>\n",
       "      <td>Nigeria</td>\n",
       "      <td>200963.599</td>\n",
       "      <td>1.959091e+05</td>\n",
       "      <td>1.0258</td>\n",
       "      <td>923768.0</td>\n",
       "      <td>217.5477</td>\n",
       "    </tr>\n",
       "    <tr>\n",
       "      <th>7</th>\n",
       "      <td>8</td>\n",
       "      <td>Bangladesh</td>\n",
       "      <td>163046.161</td>\n",
       "      <td>1.614159e+05</td>\n",
       "      <td>1.0101</td>\n",
       "      <td>147570.0</td>\n",
       "      <td>1104.8734</td>\n",
       "    </tr>\n",
       "    <tr>\n",
       "      <th>8</th>\n",
       "      <td>9</td>\n",
       "      <td>Russia</td>\n",
       "      <td>145872.256</td>\n",
       "      <td>1.458139e+05</td>\n",
       "      <td>1.0004</td>\n",
       "      <td>17098242.0</td>\n",
       "      <td>8.5314</td>\n",
       "    </tr>\n",
       "  </tbody>\n",
       "</table>\n",
       "</div>"
      ],
      "text/plain": [
       "   Rank        name   pop2019(k)       pop2018  GrowthRate        area  \\\n",
       "0     1       China  1433783.686  1.428214e+06      1.0039   9706961.0   \n",
       "1     2       India  1366417.754  1.353023e+06      1.0099   3287590.0   \n",
       "2     3          US   329064.917  3.271348e+05      1.0059   9372610.0   \n",
       "3     4   Indonesia   270625.568  2.677605e+05      1.0107   1904569.0   \n",
       "4     5    Pakistan   216565.318  2.123189e+05      1.0200    881912.0   \n",
       "5     6      Brazil   211049.527  2.095408e+05      1.0072   8515767.0   \n",
       "6     7     Nigeria   200963.599  1.959091e+05      1.0258    923768.0   \n",
       "7     8  Bangladesh   163046.161  1.614159e+05      1.0101    147570.0   \n",
       "8     9      Russia   145872.256  1.458139e+05      1.0004  17098242.0   \n",
       "\n",
       "     Density  \n",
       "0   147.7068  \n",
       "1   415.6290  \n",
       "2    35.1092  \n",
       "3   142.0928  \n",
       "4   245.5634  \n",
       "5    24.7834  \n",
       "6   217.5477  \n",
       "7  1104.8734  \n",
       "8     8.5314  "
      ]
     },
     "execution_count": 17,
     "metadata": {},
     "output_type": "execute_result"
    }
   ],
   "source": [
    "%time\n",
    "# pandas\n",
    "pop19_df[pop19_df['Rank'] < 10]"
   ]
  },
  {
   "cell_type": "markdown",
   "metadata": {},
   "source": [
    "### Selecting a list of columns"
   ]
  },
  {
   "cell_type": "code",
   "execution_count": 18,
   "metadata": {},
   "outputs": [
    {
     "name": "stdout",
     "output_type": "stream",
     "text": [
      "CPU times: user 0 ns, sys: 252 µs, total: 252 µs\n",
      "Wall time: 1.48 ms\n",
      "+----+---------+--------+\n",
      "|Rank|     name| Density|\n",
      "+----+---------+--------+\n",
      "|   1|    China|147.7068|\n",
      "|   2|    India| 415.629|\n",
      "|   3|       US| 35.1092|\n",
      "|   4|Indonesia|142.0928|\n",
      "|   5| Pakistan|245.5634|\n",
      "+----+---------+--------+\n",
      "only showing top 5 rows\n",
      "\n"
     ]
    }
   ],
   "source": [
    "%time\n",
    "# pyspark\n",
    "pop19_sp.select('Rank', 'name', 'Density').show(5)"
   ]
  },
  {
   "cell_type": "code",
   "execution_count": 19,
   "metadata": {},
   "outputs": [
    {
     "name": "stdout",
     "output_type": "stream",
     "text": [
      "CPU times: user 12 µs, sys: 3 µs, total: 15 µs\n",
      "Wall time: 34.1 µs\n"
     ]
    },
    {
     "data": {
      "text/html": [
       "<div>\n",
       "<style scoped>\n",
       "    .dataframe tbody tr th:only-of-type {\n",
       "        vertical-align: middle;\n",
       "    }\n",
       "\n",
       "    .dataframe tbody tr th {\n",
       "        vertical-align: top;\n",
       "    }\n",
       "\n",
       "    .dataframe thead th {\n",
       "        text-align: right;\n",
       "    }\n",
       "</style>\n",
       "<table border=\"1\" class=\"dataframe\">\n",
       "  <thead>\n",
       "    <tr style=\"text-align: right;\">\n",
       "      <th></th>\n",
       "      <th>Rank</th>\n",
       "      <th>name</th>\n",
       "      <th>Density</th>\n",
       "    </tr>\n",
       "  </thead>\n",
       "  <tbody>\n",
       "    <tr>\n",
       "      <th>0</th>\n",
       "      <td>1</td>\n",
       "      <td>China</td>\n",
       "      <td>147.7068</td>\n",
       "    </tr>\n",
       "    <tr>\n",
       "      <th>1</th>\n",
       "      <td>2</td>\n",
       "      <td>India</td>\n",
       "      <td>415.6290</td>\n",
       "    </tr>\n",
       "    <tr>\n",
       "      <th>2</th>\n",
       "      <td>3</td>\n",
       "      <td>US</td>\n",
       "      <td>35.1092</td>\n",
       "    </tr>\n",
       "    <tr>\n",
       "      <th>3</th>\n",
       "      <td>4</td>\n",
       "      <td>Indonesia</td>\n",
       "      <td>142.0928</td>\n",
       "    </tr>\n",
       "    <tr>\n",
       "      <th>4</th>\n",
       "      <td>5</td>\n",
       "      <td>Pakistan</td>\n",
       "      <td>245.5634</td>\n",
       "    </tr>\n",
       "  </tbody>\n",
       "</table>\n",
       "</div>"
      ],
      "text/plain": [
       "   Rank       name   Density\n",
       "0     1      China  147.7068\n",
       "1     2      India  415.6290\n",
       "2     3         US   35.1092\n",
       "3     4  Indonesia  142.0928\n",
       "4     5   Pakistan  245.5634"
      ]
     },
     "execution_count": 19,
     "metadata": {},
     "output_type": "execute_result"
    }
   ],
   "source": [
    "%time\n",
    "# pandas\n",
    "pop19_df[['Rank', 'name', 'Density']].head()"
   ]
  },
  {
   "cell_type": "markdown",
   "metadata": {},
   "source": [
    "### Aggregating"
   ]
  },
  {
   "cell_type": "code",
   "execution_count": 20,
   "metadata": {},
   "outputs": [
    {
     "name": "stdout",
     "output_type": "stream",
     "text": [
      "CPU times: user 10 µs, sys: 0 ns, total: 10 µs\n",
      "Wall time: 31.7 µs\n"
     ]
    },
    {
     "data": {
      "text/plain": [
       "7715333.1000000015"
      ]
     },
     "execution_count": 20,
     "metadata": {},
     "output_type": "execute_result"
    }
   ],
   "source": [
    "%time\n",
    "# pyspark\n",
    "pop19_sp.agg(F.sum('pop2019(k)')).collect()[0][0]"
   ]
  },
  {
   "cell_type": "code",
   "execution_count": 21,
   "metadata": {},
   "outputs": [
    {
     "name": "stdout",
     "output_type": "stream",
     "text": [
      "CPU times: user 0 ns, sys: 0 ns, total: 0 ns\n",
      "Wall time: 23.6 µs\n"
     ]
    },
    {
     "data": {
      "text/plain": [
       "7715333.1"
      ]
     },
     "execution_count": 21,
     "metadata": {},
     "output_type": "execute_result"
    }
   ],
   "source": [
    "%time\n",
    "# pandas\n",
    "pop19_df['pop2019(k)'].sum()"
   ]
  },
  {
   "cell_type": "markdown",
   "metadata": {},
   "source": [
    "### Rename column"
   ]
  },
  {
   "cell_type": "code",
   "execution_count": 22,
   "metadata": {},
   "outputs": [
    {
     "name": "stdout",
     "output_type": "stream",
     "text": [
      "CPU times: user 0 ns, sys: 8 µs, total: 8 µs\n",
      "Wall time: 125 µs\n",
      "+----+---------+-----------+------------------+----------+---------+--------+\n",
      "|Rank|  country| pop2019(k)|           pop2018|GrowthRate|     area| Density|\n",
      "+----+---------+-----------+------------------+----------+---------+--------+\n",
      "|   1|    China|1433783.686|1428213.6527542584|    1.0039|9706961.0|147.7068|\n",
      "|   2|    India|1366417.754|1353022.8280027725|    1.0099|3287590.0| 415.629|\n",
      "|   3|       US| 329064.917|327134.82155283826|    1.0059|9372610.0| 35.1092|\n",
      "|   4|Indonesia| 270625.568|  267760.530325517|    1.0107|1904569.0|142.0928|\n",
      "|   5| Pakistan| 216565.318|212318.93921568626|      1.02| 881912.0|245.5634|\n",
      "+----+---------+-----------+------------------+----------+---------+--------+\n",
      "only showing top 5 rows\n",
      "\n"
     ]
    }
   ],
   "source": [
    "%time\n",
    "# pyspark\n",
    "pop19_sp = pop19_sp.withColumnRenamed('name', 'country')\n",
    "pop19_sp.show(5)"
   ]
  },
  {
   "cell_type": "code",
   "execution_count": 23,
   "metadata": {},
   "outputs": [
    {
     "name": "stdout",
     "output_type": "stream",
     "text": [
      "CPU times: user 6 µs, sys: 1e+03 ns, total: 7 µs\n",
      "Wall time: 27.7 µs\n"
     ]
    },
    {
     "data": {
      "text/html": [
       "<div>\n",
       "<style scoped>\n",
       "    .dataframe tbody tr th:only-of-type {\n",
       "        vertical-align: middle;\n",
       "    }\n",
       "\n",
       "    .dataframe tbody tr th {\n",
       "        vertical-align: top;\n",
       "    }\n",
       "\n",
       "    .dataframe thead th {\n",
       "        text-align: right;\n",
       "    }\n",
       "</style>\n",
       "<table border=\"1\" class=\"dataframe\">\n",
       "  <thead>\n",
       "    <tr style=\"text-align: right;\">\n",
       "      <th></th>\n",
       "      <th>Rank</th>\n",
       "      <th>country</th>\n",
       "      <th>pop2019(k)</th>\n",
       "      <th>pop2018</th>\n",
       "      <th>GrowthRate</th>\n",
       "      <th>area</th>\n",
       "      <th>Density</th>\n",
       "    </tr>\n",
       "  </thead>\n",
       "  <tbody>\n",
       "    <tr>\n",
       "      <th>0</th>\n",
       "      <td>1</td>\n",
       "      <td>China</td>\n",
       "      <td>1433783.686</td>\n",
       "      <td>1.428214e+06</td>\n",
       "      <td>1.0039</td>\n",
       "      <td>9706961.0</td>\n",
       "      <td>147.7068</td>\n",
       "    </tr>\n",
       "    <tr>\n",
       "      <th>1</th>\n",
       "      <td>2</td>\n",
       "      <td>India</td>\n",
       "      <td>1366417.754</td>\n",
       "      <td>1.353023e+06</td>\n",
       "      <td>1.0099</td>\n",
       "      <td>3287590.0</td>\n",
       "      <td>415.6290</td>\n",
       "    </tr>\n",
       "    <tr>\n",
       "      <th>2</th>\n",
       "      <td>3</td>\n",
       "      <td>US</td>\n",
       "      <td>329064.917</td>\n",
       "      <td>3.271348e+05</td>\n",
       "      <td>1.0059</td>\n",
       "      <td>9372610.0</td>\n",
       "      <td>35.1092</td>\n",
       "    </tr>\n",
       "    <tr>\n",
       "      <th>3</th>\n",
       "      <td>4</td>\n",
       "      <td>Indonesia</td>\n",
       "      <td>270625.568</td>\n",
       "      <td>2.677605e+05</td>\n",
       "      <td>1.0107</td>\n",
       "      <td>1904569.0</td>\n",
       "      <td>142.0928</td>\n",
       "    </tr>\n",
       "    <tr>\n",
       "      <th>4</th>\n",
       "      <td>5</td>\n",
       "      <td>Pakistan</td>\n",
       "      <td>216565.318</td>\n",
       "      <td>2.123189e+05</td>\n",
       "      <td>1.0200</td>\n",
       "      <td>881912.0</td>\n",
       "      <td>245.5634</td>\n",
       "    </tr>\n",
       "  </tbody>\n",
       "</table>\n",
       "</div>"
      ],
      "text/plain": [
       "   Rank    country   pop2019(k)       pop2018  GrowthRate       area   Density\n",
       "0     1      China  1433783.686  1.428214e+06      1.0039  9706961.0  147.7068\n",
       "1     2      India  1366417.754  1.353023e+06      1.0099  3287590.0  415.6290\n",
       "2     3         US   329064.917  3.271348e+05      1.0059  9372610.0   35.1092\n",
       "3     4  Indonesia   270625.568  2.677605e+05      1.0107  1904569.0  142.0928\n",
       "4     5   Pakistan   216565.318  2.123189e+05      1.0200   881912.0  245.5634"
      ]
     },
     "execution_count": 23,
     "metadata": {},
     "output_type": "execute_result"
    }
   ],
   "source": [
    "%time\n",
    "# pandas\n",
    "pop19_df = pop19_df.rename(columns={'name':'country'})\n",
    "pop19_df.head()"
   ]
  },
  {
   "cell_type": "markdown",
   "metadata": {},
   "source": [
    "### Joining"
   ]
  },
  {
   "cell_type": "code",
   "execution_count": 24,
   "metadata": {},
   "outputs": [
    {
     "name": "stdout",
     "output_type": "stream",
     "text": [
      "CPU times: user 6 µs, sys: 1e+03 ns, total: 7 µs\n",
      "Wall time: 31.9 µs\n",
      "+----------+----+-----------+------------------+----------+-----------+---------+-------------+\n",
      "|   country|Rank| pop2019(k)|           pop2018|GrowthRate|       area|  Density|    continent|\n",
      "+----------+----+-----------+------------------+----------+-----------+---------+-------------+\n",
      "|    Russia|   9| 145872.256|145813.93042782886|    1.0004|1.7098242E7|   8.5314|       Europe|\n",
      "|     China|   1|1433783.686|1428213.6527542584|    1.0039|  9706961.0| 147.7068|         Asia|\n",
      "|     India|   2|1366417.754|1353022.8280027725|    1.0099|  3287590.0|  415.629|         Asia|\n",
      "|   Nigeria|   7| 200963.599|195909.14310781826|    1.0258|   923768.0| 217.5477|       Africa|\n",
      "|Bangladesh|   8| 163046.161| 161415.8608058608|    1.0101|   147570.0|1104.8734|         Asia|\n",
      "|        US|   3| 329064.917|327134.82155283826|    1.0059|  9372610.0|  35.1092|North America|\n",
      "| Indonesia|   4| 270625.568|  267760.530325517|    1.0107|  1904569.0| 142.0928|         Asia|\n",
      "|    Brazil|   6| 211049.527|209540.83300238283|    1.0072|  8515767.0|  24.7834|South America|\n",
      "|  Pakistan|   5| 216565.318|212318.93921568626|      1.02|   881912.0| 245.5634|         Asia|\n",
      "+----------+----+-----------+------------------+----------+-----------+---------+-------------+\n",
      "\n"
     ]
    }
   ],
   "source": [
    "%time\n",
    "# pyspark\n",
    "merged_sp = pop19_sp.join(gdp19_sp, on='country')\n",
    "merged_sp.show()"
   ]
  },
  {
   "cell_type": "code",
   "execution_count": 25,
   "metadata": {},
   "outputs": [
    {
     "name": "stdout",
     "output_type": "stream",
     "text": [
      "CPU times: user 4 µs, sys: 1e+03 ns, total: 5 µs\n",
      "Wall time: 22.4 µs\n"
     ]
    },
    {
     "data": {
      "text/html": [
       "<div>\n",
       "<style scoped>\n",
       "    .dataframe tbody tr th:only-of-type {\n",
       "        vertical-align: middle;\n",
       "    }\n",
       "\n",
       "    .dataframe tbody tr th {\n",
       "        vertical-align: top;\n",
       "    }\n",
       "\n",
       "    .dataframe thead th {\n",
       "        text-align: right;\n",
       "    }\n",
       "</style>\n",
       "<table border=\"1\" class=\"dataframe\">\n",
       "  <thead>\n",
       "    <tr style=\"text-align: right;\">\n",
       "      <th></th>\n",
       "      <th>Rank</th>\n",
       "      <th>country</th>\n",
       "      <th>pop2019(k)</th>\n",
       "      <th>pop2018</th>\n",
       "      <th>GrowthRate</th>\n",
       "      <th>area</th>\n",
       "      <th>Density</th>\n",
       "      <th>continent</th>\n",
       "    </tr>\n",
       "  </thead>\n",
       "  <tbody>\n",
       "    <tr>\n",
       "      <th>0</th>\n",
       "      <td>1</td>\n",
       "      <td>China</td>\n",
       "      <td>1433783.686</td>\n",
       "      <td>1.428214e+06</td>\n",
       "      <td>1.0039</td>\n",
       "      <td>9706961.0</td>\n",
       "      <td>147.7068</td>\n",
       "      <td>Asia</td>\n",
       "    </tr>\n",
       "    <tr>\n",
       "      <th>1</th>\n",
       "      <td>2</td>\n",
       "      <td>India</td>\n",
       "      <td>1366417.754</td>\n",
       "      <td>1.353023e+06</td>\n",
       "      <td>1.0099</td>\n",
       "      <td>3287590.0</td>\n",
       "      <td>415.6290</td>\n",
       "      <td>Asia</td>\n",
       "    </tr>\n",
       "    <tr>\n",
       "      <th>2</th>\n",
       "      <td>3</td>\n",
       "      <td>US</td>\n",
       "      <td>329064.917</td>\n",
       "      <td>3.271348e+05</td>\n",
       "      <td>1.0059</td>\n",
       "      <td>9372610.0</td>\n",
       "      <td>35.1092</td>\n",
       "      <td>North America</td>\n",
       "    </tr>\n",
       "    <tr>\n",
       "      <th>3</th>\n",
       "      <td>4</td>\n",
       "      <td>Indonesia</td>\n",
       "      <td>270625.568</td>\n",
       "      <td>2.677605e+05</td>\n",
       "      <td>1.0107</td>\n",
       "      <td>1904569.0</td>\n",
       "      <td>142.0928</td>\n",
       "      <td>Asia</td>\n",
       "    </tr>\n",
       "    <tr>\n",
       "      <th>4</th>\n",
       "      <td>5</td>\n",
       "      <td>Pakistan</td>\n",
       "      <td>216565.318</td>\n",
       "      <td>2.123189e+05</td>\n",
       "      <td>1.0200</td>\n",
       "      <td>881912.0</td>\n",
       "      <td>245.5634</td>\n",
       "      <td>Asia</td>\n",
       "    </tr>\n",
       "    <tr>\n",
       "      <th>5</th>\n",
       "      <td>6</td>\n",
       "      <td>Brazil</td>\n",
       "      <td>211049.527</td>\n",
       "      <td>2.095408e+05</td>\n",
       "      <td>1.0072</td>\n",
       "      <td>8515767.0</td>\n",
       "      <td>24.7834</td>\n",
       "      <td>South America</td>\n",
       "    </tr>\n",
       "    <tr>\n",
       "      <th>6</th>\n",
       "      <td>7</td>\n",
       "      <td>Nigeria</td>\n",
       "      <td>200963.599</td>\n",
       "      <td>1.959091e+05</td>\n",
       "      <td>1.0258</td>\n",
       "      <td>923768.0</td>\n",
       "      <td>217.5477</td>\n",
       "      <td>Africa</td>\n",
       "    </tr>\n",
       "    <tr>\n",
       "      <th>7</th>\n",
       "      <td>8</td>\n",
       "      <td>Bangladesh</td>\n",
       "      <td>163046.161</td>\n",
       "      <td>1.614159e+05</td>\n",
       "      <td>1.0101</td>\n",
       "      <td>147570.0</td>\n",
       "      <td>1104.8734</td>\n",
       "      <td>Asia</td>\n",
       "    </tr>\n",
       "    <tr>\n",
       "      <th>8</th>\n",
       "      <td>9</td>\n",
       "      <td>Russia</td>\n",
       "      <td>145872.256</td>\n",
       "      <td>1.458139e+05</td>\n",
       "      <td>1.0004</td>\n",
       "      <td>17098242.0</td>\n",
       "      <td>8.5314</td>\n",
       "      <td>Europe</td>\n",
       "    </tr>\n",
       "  </tbody>\n",
       "</table>\n",
       "</div>"
      ],
      "text/plain": [
       "   Rank     country   pop2019(k)       pop2018  GrowthRate        area  \\\n",
       "0     1       China  1433783.686  1.428214e+06      1.0039   9706961.0   \n",
       "1     2       India  1366417.754  1.353023e+06      1.0099   3287590.0   \n",
       "2     3          US   329064.917  3.271348e+05      1.0059   9372610.0   \n",
       "3     4   Indonesia   270625.568  2.677605e+05      1.0107   1904569.0   \n",
       "4     5    Pakistan   216565.318  2.123189e+05      1.0200    881912.0   \n",
       "5     6      Brazil   211049.527  2.095408e+05      1.0072   8515767.0   \n",
       "6     7     Nigeria   200963.599  1.959091e+05      1.0258    923768.0   \n",
       "7     8  Bangladesh   163046.161  1.614159e+05      1.0101    147570.0   \n",
       "8     9      Russia   145872.256  1.458139e+05      1.0004  17098242.0   \n",
       "\n",
       "     Density      continent  \n",
       "0   147.7068           Asia  \n",
       "1   415.6290           Asia  \n",
       "2    35.1092  North America  \n",
       "3   142.0928           Asia  \n",
       "4   245.5634           Asia  \n",
       "5    24.7834  South America  \n",
       "6   217.5477         Africa  \n",
       "7  1104.8734           Asia  \n",
       "8     8.5314         Europe  "
      ]
     },
     "execution_count": 25,
     "metadata": {},
     "output_type": "execute_result"
    }
   ],
   "source": [
    "%time\n",
    "# pandas\n",
    "merged_df = pd.merge(pop19_df, gdp19_df, on='country')\n",
    "merged_df"
   ]
  },
  {
   "cell_type": "markdown",
   "metadata": {},
   "source": [
    "### Create a new dataframe"
   ]
  },
  {
   "cell_type": "code",
   "execution_count": 26,
   "metadata": {
    "scrolled": false
   },
   "outputs": [
    {
     "name": "stdout",
     "output_type": "stream",
     "text": [
      "CPU times: user 8 µs, sys: 2 µs, total: 10 µs\n",
      "Wall time: 30 µs\n"
     ]
    },
    {
     "data": {
      "text/html": [
       "<div>\n",
       "<style scoped>\n",
       "    .dataframe tbody tr th:only-of-type {\n",
       "        vertical-align: middle;\n",
       "    }\n",
       "\n",
       "    .dataframe tbody tr th {\n",
       "        vertical-align: top;\n",
       "    }\n",
       "\n",
       "    .dataframe thead th {\n",
       "        text-align: right;\n",
       "    }\n",
       "</style>\n",
       "<table border=\"1\" class=\"dataframe\">\n",
       "  <thead>\n",
       "    <tr style=\"text-align: right;\">\n",
       "      <th></th>\n",
       "      <th>country</th>\n",
       "      <th>year</th>\n",
       "      <th>population(k)</th>\n",
       "    </tr>\n",
       "  </thead>\n",
       "  <tbody>\n",
       "    <tr>\n",
       "      <th>0</th>\n",
       "      <td>China</td>\n",
       "      <td>2018</td>\n",
       "      <td>1428213.653</td>\n",
       "    </tr>\n",
       "    <tr>\n",
       "      <th>1</th>\n",
       "      <td>China</td>\n",
       "      <td>2019</td>\n",
       "      <td>1433783.686</td>\n",
       "    </tr>\n",
       "    <tr>\n",
       "      <th>2</th>\n",
       "      <td>US</td>\n",
       "      <td>2018</td>\n",
       "      <td>327134.822</td>\n",
       "    </tr>\n",
       "    <tr>\n",
       "      <th>3</th>\n",
       "      <td>US</td>\n",
       "      <td>2019</td>\n",
       "      <td>329064.917</td>\n",
       "    </tr>\n",
       "  </tbody>\n",
       "</table>\n",
       "</div>"
      ],
      "text/plain": [
       "  country  year  population(k)\n",
       "0   China  2018    1428213.653\n",
       "1   China  2019    1433783.686\n",
       "2      US  2018     327134.822\n",
       "3      US  2019     329064.917"
      ]
     },
     "execution_count": 26,
     "metadata": {},
     "output_type": "execute_result"
    }
   ],
   "source": [
    "%time\n",
    "# pandas\n",
    "new_df = pd.DataFrame({'country': ['China', 'China', 'US', 'US'],\n",
    "                       'year': [2018, 2019, 2018, 2019],\n",
    "                       'population(k)':[1428213.653, 1433783.686, 327134.822, 329064.917]})\n",
    "new_df"
   ]
  },
  {
   "cell_type": "code",
   "execution_count": 27,
   "metadata": {},
   "outputs": [
    {
     "name": "stdout",
     "output_type": "stream",
     "text": [
      "CPU times: user 4 µs, sys: 1e+03 ns, total: 5 µs\n",
      "Wall time: 23.1 µs\n",
      "+-------+----+-------------+\n",
      "|country|year|population(k)|\n",
      "+-------+----+-------------+\n",
      "|  China|2018|  1428213.653|\n",
      "|  China|2019|  1433783.686|\n",
      "|     US|2018|   327134.822|\n",
      "|     US|2019|   329064.917|\n",
      "+-------+----+-------------+\n",
      "\n"
     ]
    }
   ],
   "source": [
    "%time\n",
    "# pyspark\n",
    "new_sp = spark_session.createDataFrame(new_df)\n",
    "new_sp.show()"
   ]
  },
  {
   "cell_type": "markdown",
   "metadata": {},
   "source": [
    "### Pivot table"
   ]
  },
  {
   "cell_type": "code",
   "execution_count": null,
   "metadata": {},
   "outputs": [],
   "source": [
    "%time\n",
    "# pyspark\n"
   ]
  },
  {
   "cell_type": "code",
   "execution_count": null,
   "metadata": {},
   "outputs": [],
   "source": [
    "%time\n",
    "# pandas\n"
   ]
  },
  {
   "cell_type": "code",
   "execution_count": null,
   "metadata": {},
   "outputs": [],
   "source": []
  },
  {
   "cell_type": "code",
   "execution_count": null,
   "metadata": {},
   "outputs": [],
   "source": []
  },
  {
   "cell_type": "code",
   "execution_count": null,
   "metadata": {},
   "outputs": [],
   "source": []
  }
 ],
 "metadata": {
  "kernelspec": {
   "display_name": "Python 3",
   "language": "python",
   "name": "python3"
  },
  "language_info": {
   "codemirror_mode": {
    "name": "ipython",
    "version": 3
   },
   "file_extension": ".py",
   "mimetype": "text/x-python",
   "name": "python",
   "nbconvert_exporter": "python",
   "pygments_lexer": "ipython3",
   "version": "3.7.6"
  }
 },
 "nbformat": 4,
 "nbformat_minor": 2
}
